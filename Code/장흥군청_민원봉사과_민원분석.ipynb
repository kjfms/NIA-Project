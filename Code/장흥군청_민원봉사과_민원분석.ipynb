{
  "nbformat": 4,
  "nbformat_minor": 0,
  "metadata": {
    "colab": {
      "name": "장흥군청_민원봉사과_민원분석.ipynb",
      "provenance": [],
      "collapsed_sections": [],
      "mount_file_id": "1CtI4XP6OJ1T5OdZSpS5IRSplNhZMV6Mg",
      "authorship_tag": "ABX9TyN5hNrmAwldUxQX6apxscdz",
      "include_colab_link": true
    },
    "kernelspec": {
      "name": "python3",
      "display_name": "Python 3"
    },
    "language_info": {
      "name": "python"
    }
  },
  "cells": [
    {
      "cell_type": "markdown",
      "metadata": {
        "id": "view-in-github",
        "colab_type": "text"
      },
      "source": [
        "<a href=\"https://colab.research.google.com/github/kjfms/NIA-Project/blob/main/Code/%EC%9E%A5%ED%9D%A5%EA%B5%B0%EC%B2%AD_%EB%AF%BC%EC%9B%90%EB%B4%89%EC%82%AC%EA%B3%BC_%EB%AF%BC%EC%9B%90%EB%B6%84%EC%84%9D.ipynb\" target=\"_parent\"><img src=\"https://colab.research.google.com/assets/colab-badge.svg\" alt=\"Open In Colab\"/></a>"
      ]
    },
    {
      "cell_type": "markdown",
      "metadata": {
        "id": "0m2iyQEljwv2"
      },
      "source": [
        "## Konlpy 설치"
      ]
    },
    {
      "cell_type": "code",
      "metadata": {
        "id": "f2Y5_Uuiqx61"
      },
      "source": [
        "# 코랩에서 한글 깨질 때 실행\n",
        "!sudo apt-get install -y fonts-nanum\n",
        "!sudo fc-cache -fv\n",
        "!rm ~/.cache/matplotlib -rf"
      ],
      "execution_count": null,
      "outputs": []
    },
    {
      "cell_type": "code",
      "metadata": {
        "id": "DKfnEyMErC2Y"
      },
      "source": [
        "!sudo apt-get install -y fonts-nanum\n",
        "!sudo fc-cache -fv\n",
        "!rm ~/.cache/matplotlib -rf"
      ],
      "execution_count": null,
      "outputs": []
    },
    {
      "cell_type": "code",
      "metadata": {
        "id": "NKUDYgWprQ1l"
      },
      "source": [
        "!apt-get update !apt-get install g++ openjdk-8-jdk python-dev python3-dev \n",
        "!pip3 install JPype1-py3 \n",
        "!pip3 install konlpy \n",
        "!JAVA_HOME=\"C:\\Program Files\\Java\\jdk-16.0.2\""
      ],
      "execution_count": null,
      "outputs": []
    },
    {
      "cell_type": "code",
      "metadata": {
        "id": "pHaV8zhKrSsP"
      },
      "source": [
        "%%bash\n",
        "bash <(curl -s https://raw.githubusercontent.com/konlpy/konlpy/master/scripts/mecab.sh)\n",
        "pip3 install /tmp/mecab-python-0.996"
      ],
      "execution_count": null,
      "outputs": []
    },
    {
      "cell_type": "markdown",
      "metadata": {
        "id": "6qMuNDjJi7GC"
      },
      "source": [
        "### 1. 필요 라이브러리 import"
      ]
    },
    {
      "cell_type": "code",
      "metadata": {
        "id": "4WL1i8-oqysy"
      },
      "source": [
        "import pandas as pd\n",
        "import numpy as np\n",
        "import matplotlib.pyplot as plt\n",
        "import seaborn as sns\n",
        "import datetime\n",
        "\n",
        "from gensim.models import Word2Vec\n",
        "from gensim.models import KeyedVectors\n",
        "from sklearn.manifold import TSNE\n",
        "from sklearn.decomposition import PCA\n",
        "import gensim"
      ],
      "execution_count": null,
      "outputs": []
    },
    {
      "cell_type": "code",
      "metadata": {
        "id": "nnPChm4vqzwJ"
      },
      "source": [
        "data = pd.read_excel('/content/drive/MyDrive/장흥군청/청구서전체현황(2020-01-01_2020-12-31).xlsx')"
      ],
      "execution_count": null,
      "outputs": []
    },
    {
      "cell_type": "code",
      "metadata": {
        "id": "mwd9ZzlTrUHQ"
      },
      "source": [
        "import konlpy\n",
        "from konlpy.tag import Kkma, Komoran, Hannanum, Okt\n",
        "from konlpy.utils import pprint\n",
        "from konlpy.tag import Mecab\n"
      ],
      "execution_count": null,
      "outputs": []
    },
    {
      "cell_type": "code",
      "metadata": {
        "id": "lqjSz9LCrX8k"
      },
      "source": [
        "mecab = Mecab()\n",
        "okt = Okt()"
      ],
      "execution_count": null,
      "outputs": []
    },
    {
      "cell_type": "code",
      "metadata": {
        "id": "G6ikDP_psE7j"
      },
      "source": [
        "from matplotlib import font_manager, rc\n",
        "import matplotlib.font_manager as fm \n",
        "from wordcloud import WordCloud\n",
        "\n",
        "from collections import Counter"
      ],
      "execution_count": null,
      "outputs": []
    },
    {
      "cell_type": "code",
      "metadata": {
        "id": "1-Hp4UK4sFsj"
      },
      "source": [
        "data[data['처리부서'].str.contains('민원봉사과', na = True)]['청구제목']"
      ],
      "execution_count": null,
      "outputs": []
    },
    {
      "cell_type": "code",
      "metadata": {
        "id": "saBti0CesK25"
      },
      "source": [
        "# 첨부파일이 있는 민원들의 행번호를 리스트로 정리\n",
        "contents_null_index  = [i for i in range(len(data)) if data.loc[i,'접수번호'] in contents_null]"
      ],
      "execution_count": null,
      "outputs": []
    },
    {
      "cell_type": "code",
      "metadata": {
        "id": "_pWUpLAWsQbf"
      },
      "source": [
        "data.fillna({'공개내용' : ' '},inplace=True)"
      ],
      "execution_count": null,
      "outputs": []
    },
    {
      "cell_type": "code",
      "metadata": {
        "id": "mZoajko-R3pW"
      },
      "source": [
        "data.fillna(' ', inplace = True)"
      ],
      "execution_count": null,
      "outputs": []
    },
    {
      "cell_type": "code",
      "metadata": {
        "id": "_tq_KW8OsSpF"
      },
      "source": [
        "data.isnull().sum()"
      ],
      "execution_count": null,
      "outputs": []
    },
    {
      "cell_type": "markdown",
      "metadata": {
        "id": "4w0draM6jdW1"
      },
      "source": [
        "## 처리부서 : 민원봉사과인 민원만 추출"
      ]
    },
    {
      "cell_type": "code",
      "metadata": {
        "id": "6o4mUKfbsIcv"
      },
      "source": [
        "contents_null = [6343850,6342663,6347859,6361980, 6360414,6365844,6370809,6376187, 6376127,6375886,6392497, 6408176 ,6411220 ,6424017 ,6423993, 6421206, 6429766, 6433720, 6433613, 6470149,\n",
        "6477407, 6482634,6486872,6486866,6484838,6496572,6501522,6501474,6504238,6513102,6511367,6511128,6521753,6511115,6533115,6552564, 6564301,6563158, 6568608, 6580512, 6587557, 6592447, 6599511,\n",
        "6599500, 6599471, 6597479, 6597189, 6645357, 6645357, 6659233, 6663445, 6662997, 6671311, 6670436, 6678598, 6682150, 6696458, 6699212, 6703218, 6717327, 6724342, 6756529, 6772665, 6794693,\n",
        "6793919, 6817680, 6822431, 6821205, 6833506, 6839221, 6838795, 6843988, 6855427, 6869560, 6907249, 6936585, 7148167, 7288599, 7290360]"
      ],
      "execution_count": null,
      "outputs": []
    },
    {
      "cell_type": "code",
      "metadata": {
        "id": "nzO-ltRqsWMD"
      },
      "source": [
        "sentence = []\n",
        "\n",
        "for i in range(len(data)) :\n",
        "  if data.loc[i,'처리부서'].find('민원봉사과') != -1 :\n",
        "      if (i in contents_null_index) :\n",
        "        contents = data.loc[i, '공개내용']\n",
        "        title = ''\n",
        "      else :\n",
        "        contents = data.loc[i, '청구내용']\n",
        "        title = data.loc[i, '청구제목']\n",
        "\n",
        "  sentence.append([c for c in okt.nouns(contents) if len(c) >=2 ])\n",
        "  sentence.append([t for t in okt.nouns(title) if len(t) >=2 ])"
      ],
      "execution_count": null,
      "outputs": []
    },
    {
      "cell_type": "markdown",
      "metadata": {
        "id": "3aEa6oPlkHe1"
      },
      "source": [
        "##TF-IDF"
      ]
    },
    {
      "cell_type": "markdown",
      "metadata": {
        "id": "9U4v3MUTkL_1"
      },
      "source": [
        "###1. stopwords 없이 진행"
      ]
    },
    {
      "cell_type": "code",
      "metadata": {
        "id": "QneOn44ZTDwu"
      },
      "source": [
        "from sklearn.feature_extraction.text import TfidfVectorizer\n",
        "\n",
        "tfidf_vectorizer = TfidfVectorizer(analyzer='word',\n",
        "                             lowercase=False,\n",
        "                             tokenizer=None,\n",
        "                             preprocessor=None,\n",
        "                             min_df=5, # 최소 문서 수 5건\n",
        "                             ngram_range=(1,1), #Bigram : ngram_range=(1,2)\n",
        "                             smooth_idf=True\n",
        "                             #max_features=10000 #메모리문제로 설정,\n",
        "                             )"
      ],
      "execution_count": null,
      "outputs": []
    },
    {
      "cell_type": "code",
      "metadata": {
        "id": "6_uy02ouTSnh"
      },
      "source": [
        "nouns_df = pd.DataFrame({'nouns' : sentence})"
      ],
      "execution_count": null,
      "outputs": []
    },
    {
      "cell_type": "code",
      "metadata": {
        "id": "iEuRJ7Y2TUGD"
      },
      "source": [
        "nouns_df.head()"
      ],
      "execution_count": null,
      "outputs": []
    },
    {
      "cell_type": "code",
      "metadata": {
        "id": "IYvX1a1XTdND"
      },
      "source": [
        "tfidf_vector2 = tfidf_vectorizer.fit_transform(nouns_df['nouns'].astype('str')) # tf-idf값으로 채워진 DTM생성"
      ],
      "execution_count": null,
      "outputs": []
    },
    {
      "cell_type": "code",
      "metadata": {
        "id": "TZUuU0UlTfZG"
      },
      "source": [
        "tfidf_scores2 = tfidf_vector2.toarray().sum(axis = 0)"
      ],
      "execution_count": null,
      "outputs": []
    },
    {
      "cell_type": "code",
      "metadata": {
        "id": "E7bSCmDmTgeC"
      },
      "source": [
        "tfidf_idx2 = np.argsort(-tfidf_scores2) # 1차원 배열 거꾸로 정렬 의미"
      ],
      "execution_count": null,
      "outputs": []
    },
    {
      "cell_type": "code",
      "metadata": {
        "id": "pMEqmwlyThhy"
      },
      "source": [
        "tfidf_scores2_2 = tfidf_scores2[tfidf_idx2] # 인덱스"
      ],
      "execution_count": null,
      "outputs": []
    },
    {
      "cell_type": "code",
      "metadata": {
        "id": "EL5CYo6TTixg"
      },
      "source": [
        "tfidf_vocab2 = np.array(tfidf_vectorizer.get_feature_names())[tfidf_idx2] # 인덱스에 해당하는 단어 추출"
      ],
      "execution_count": null,
      "outputs": []
    },
    {
      "cell_type": "code",
      "metadata": {
        "id": "FapoMP1WTjkr"
      },
      "source": [
        "tfidf_df2 = pd.DataFrame({'단어' : tfidf_vocab2, '점수' : tfidf_scores2_2})"
      ],
      "execution_count": null,
      "outputs": []
    },
    {
      "cell_type": "code",
      "metadata": {
        "id": "zOY33SNPLnp2"
      },
      "source": [
        "tfidf_df2.head(50).style.hide_index()"
      ],
      "execution_count": null,
      "outputs": []
    },
    {
      "cell_type": "markdown",
      "metadata": {
        "id": "rpJaiU1gkVE9"
      },
      "source": [
        "### 2. stopwords 생성"
      ]
    },
    {
      "cell_type": "code",
      "metadata": {
        "id": "EIjeosklvvkK"
      },
      "source": [
        "stopwords = ['아래', '상상', '제안', '까지', '닷컴', '포털', '사이트', '천만', '오아시스', '이벤트', '접수','서울시','서울','특별시',\n",
        "             '천만상상','파일','첨부','응모','슬로건','공모','공모전','응모전','신청','경우','때문','정도','사항',\n",
        "                   '해당','겁니다','이것','저것','그것','돋움','신명', '태명', '한컴', '돋움',\n",
        "                   '동안','거기','저기','여기','대부분','누구','무엇','고딕','만큼','굴림','감사','건지','텐데',\n",
        "                   '안녕','이번','걸로','수고','겁니까','그간','그건','그때','글쓴이','누가','니다','다면',\n",
        "                   '뭔가','상상오아시스','하다','이다','되다','같다','궁','자체','서체','정','서','이','을','있다','없다', '체','관련',\n",
        "                   '생각', '현재', '진행', '사람', '마음', '남산', '내용', '현실','음','막','김','변','조',\n",
        "                   '오','참','동','지금','주변','대상','부분','요즘','하루','마련','세대','시간','이상','행위',\n",
        "                   '활동','구분','사실','과정','모습','기간','선정','단지','자신','발생','지역','기대','마련',\n",
        "                   '장소','모두','부탁','제공','이용','해주','당시','최근','민원','문제','문제점','현황','개선','방안',\n",
        "                   '문의','답변','일동','요청','담당자','직원','방법','사용','활용','확인','방식','예전']\n",
        "\n",
        "stopwords.append('자료')\n",
        "stopwords.append('정보')\n",
        "stopwords.append('공개')\n",
        "stopwords.append('청구')\n",
        "stopwords.append('정보공개')\n",
        "stopwords.extend(['공동','자료', '번호', '신고','주소','내역', '장흥군','조지훈'])\n",
        "stopwords.extend(['대한','용도','사업','기관', '전국', '관내','먼저','등록','열람','조회','미만', '국가','이유','발급','제외', '승인', '상황', '허가','나라','여부','연락','참조','포함', '번호', '붙임', '귀하', '참고', '우리', '다음', '공공', '윤은주', '건데', '윤여욱', '조지훈', '기억', '여자', '남자'])"
      ],
      "execution_count": null,
      "outputs": []
    },
    {
      "cell_type": "code",
      "metadata": {
        "id": "FGgkqMk9TmdQ"
      },
      "source": [
        "\n",
        "tfidf_vectorizer3 = TfidfVectorizer(analyzer='word',\n",
        "                             lowercase=False,\n",
        "                             tokenizer=None,\n",
        "                             preprocessor=None,\n",
        "                             min_df=5, # 최소 문서 수 5건\n",
        "                             ngram_range=(1,1), #Bigram : ngram_range=(1,2)\n",
        "                             smooth_idf=True,\n",
        "                             stop_words = stopwords\n",
        "                             )"
      ],
      "execution_count": null,
      "outputs": []
    },
    {
      "cell_type": "code",
      "metadata": {
        "id": "7atcl03JvZA3"
      },
      "source": [
        "tfidf_vectorizer3"
      ],
      "execution_count": null,
      "outputs": []
    },
    {
      "cell_type": "code",
      "metadata": {
        "id": "DjojVT-5Tn5P"
      },
      "source": [
        "tfidf_vector3 = tfidf_vectorizer3.fit_transform(nouns_df['nouns'].astype('str')) # tf-idf값으로 채워진 DTM생성\n",
        "tfidf_scores3 = tfidf_vector3.toarray().sum(axis = 0)\n",
        "tfidf_idx3 = np.argsort(-tfidf_scores3) # 1차원 배열 거꾸로 정렬 의미\n",
        "tfidf_scores3_2 = tfidf_scores3[tfidf_idx3] # 인덱스\n",
        "tfidf_vocab3 = np.array(tfidf_vectorizer3.get_feature_names())[tfidf_idx3] # 인덱스에 해당하는 단어 추출\n",
        "tfidf_df3 = pd.DataFrame({'단어' : tfidf_vocab3, '점수' : tfidf_scores3_2})"
      ],
      "execution_count": null,
      "outputs": []
    },
    {
      "cell_type": "code",
      "metadata": {
        "id": "p_V4lTAGQ14F"
      },
      "source": [
        "tfidf_df3[tfidf_df3['점수']>30].head(10).style.hide_index()"
      ],
      "execution_count": null,
      "outputs": []
    },
    {
      "cell_type": "code",
      "metadata": {
        "id": "35m-Em1_TpSI"
      },
      "source": [
        "tfidf_dict3 = {}\n",
        "\n",
        "for i in range(len(tfidf_df3)):\n",
        "    tfidf_dict3[tfidf_df3.loc[i,'단어']] = tfidf_df3.loc[i,'점수']"
      ],
      "execution_count": null,
      "outputs": []
    },
    {
      "cell_type": "markdown",
      "metadata": {
        "id": "RsliSUfjke9T"
      },
      "source": [
        "### 워드클라우드 생성"
      ]
    },
    {
      "cell_type": "code",
      "metadata": {
        "id": "dg_E1x_Cwe6Q"
      },
      "source": [
        "font_path = r'C:\\Users\\user\\NanumBarunGothic.ttf'\n",
        "plt.figure(figsize = (14,10))\n",
        "plt.rc('font', family='NanumBarunGothic')\n",
        "plt.rc('font', size = 12)\n",
        "\n",
        "\n",
        "wordcloud = WordCloud(font_path = '/content/drive/MyDrive/장흥군청/BMJUA(주아체).ttf',relative_scaling = 0.2,\n",
        "                      background_color = 'white', width = 2000,\n",
        "                      height = 1000,  max_font_size = 200).generate_from_frequencies(tfidf_dict3)\n",
        "\n",
        "plt.imshow(wordcloud)\n",
        "plt.axis('off')\n",
        "#plt.title('장흥군청 민원봉사과 TF-IDF 점수별 키워드 시각화')\n",
        "plt.show()"
      ],
      "execution_count": null,
      "outputs": []
    },
    {
      "cell_type": "markdown",
      "metadata": {
        "id": "KXFCG-gHki_8"
      },
      "source": [
        "## TF-IDF 점수 0.5 이상인 키워드들만 워드클라우드 생성"
      ]
    },
    {
      "cell_type": "code",
      "metadata": {
        "id": "Rljy8-Cwv680"
      },
      "source": [
        "tfidf_dict4 = {key: value for key, value in tfidf_dict3.items() if value > 0.5}"
      ],
      "execution_count": null,
      "outputs": []
    },
    {
      "cell_type": "code",
      "metadata": {
        "id": "NuNxp17kTx2P"
      },
      "source": [
        "font_path = r'C:\\Users\\user\\NanumBarunGothic.ttf'\n",
        "plt.figure(figsize = (14,10))\n",
        "plt.rc('font', family='NanumBarunGothic')\n",
        "plt.rc('font', size = 12)\n",
        "\n",
        "\n",
        "wordcloud = WordCloud(font_path = '/content/drive/MyDrive/장흥군청/BMJUA(주아체).ttf',relative_scaling = 0.2,\n",
        "                      background_color = 'white', width = 2000,\n",
        "                      height = 1000,  max_font_size = 200).generate_from_frequencies(tfidf_dict4)\n",
        "\n",
        "plt.imshow(wordcloud)\n",
        "plt.axis('off')\n",
        "#plt.title('장흥군청 민원봉사과 TF-IDF 점수별 키워드 시각화(0.5점 이상)')\n",
        "plt.show()"
      ],
      "execution_count": null,
      "outputs": []
    },
    {
      "cell_type": "markdown",
      "metadata": {
        "id": "NZt55fD9VG_g"
      },
      "source": [
        "---"
      ]
    },
    {
      "cell_type": "markdown",
      "metadata": {
        "id": "26HusgdAk4Ac"
      },
      "source": [
        "## 빈도별 키워드 추출"
      ]
    },
    {
      "cell_type": "code",
      "metadata": {
        "id": "siqNqspo-QvC"
      },
      "source": [
        "tmp_df = data[data['처리부서'].str.contains('민원봉사과', na = True)]"
      ],
      "execution_count": null,
      "outputs": []
    },
    {
      "cell_type": "markdown",
      "metadata": {
        "id": "oQC9o6izlIDU"
      },
      "source": [
        "## 불용어 사전 생성"
      ]
    },
    {
      "cell_type": "code",
      "metadata": {
        "id": "--S5HvpeTkvf"
      },
      "source": [
        "stopwords = ['아래', '상상', '제안', '까지', '닷컴', '포털', '사이트', '천만', '오아시스', '이벤트', '접수','서울시','서울','특별시',\n",
        "             '천만상상','파일','첨부','응모','슬로건','공모','공모전','응모전','신청','경우','때문','정도','사항',\n",
        "                   '해당','겁니다','이것','저것','그것','돋움','신명', '태명', '한컴', '돋움',\n",
        "                   '동안','거기','저기','여기','대부분','누구','무엇','고딕','만큼','굴림','감사','건지','텐데',\n",
        "                   '안녕','이번','걸로','수고','겁니까','그간','그건','그때','글쓴이','누가','니다','다면',\n",
        "                   '뭔가','상상오아시스','하다','이다','되다','같다','궁','자체','서체','정','서','이','을','있다','없다', '체','관련',\n",
        "                   '생각', '현재', '진행', '사람', '마음', '남산', '내용', '현실','음','막','김','변','조',\n",
        "                   '오','참','동','지금','주변','대상','부분','요즘','하루','마련','세대','시간','이상','행위',\n",
        "                   '활동','구분','사실','과정','모습','기간','선정','단지','자신','발생','지역','기대','마련',\n",
        "                   '장소','모두','부탁','제공','이용','해주','당시','최근','민원','문제','문제점','현황','개선','방안',\n",
        "                   '문의','답변','일동','요청','담당자','직원','방법','사용','활용','확인','방식','예전']\n",
        "\n",
        "stopwords.append('자료')\n",
        "stopwords.append('정보')\n",
        "stopwords.append('공개')\n",
        "stopwords.append('청구')\n",
        "stopwords.append('정보공개')\n",
        "stopwords.append('장흥군')\n",
        "stopwords.append('공동')\n",
        "stopwords.append('주소')\n",
        "stopwords.append('사업')\n",
        "stopwords.append('전라남도')\n",
        "stopwords.append('한국')\n",
        "stopwords.append('내역')\n",
        "stopwords.append('귀하')\n",
        "stopwords.append('귀하')\n",
        "stopwords.extend(['먼저', '목적','다른','업체', '부터', '대수', '대해', '대한', '기관','국가','이유','발급','제외','등록', '승인', '상황', '허가','나라','여부','연락','참조','포함', '번호', '붙임', '귀하', '참고', '우리', '다음', '공공', '윤은주', '건데', '윤여욱', '조지훈', '기억', '여자', '남자'])"
      ],
      "execution_count": null,
      "outputs": []
    },
    {
      "cell_type": "markdown",
      "metadata": {
        "id": "082RbxJHlA_X"
      },
      "source": [
        "## 데이터 전처리"
      ]
    },
    {
      "cell_type": "code",
      "metadata": {
        "id": "rkaI3pJk-ZoL"
      },
      "source": [
        "tmp_df['contents'] = tmp_df.apply(lambda x : x['청구제목']+\"\\n\"+ x['청구내용']+x['공개내용'],axis = 1)"
      ],
      "execution_count": null,
      "outputs": []
    },
    {
      "cell_type": "code",
      "metadata": {
        "id": "m6lDZkGl-jqb"
      },
      "source": [
        "minwon = tmp_df['contents']"
      ],
      "execution_count": null,
      "outputs": []
    },
    {
      "cell_type": "code",
      "metadata": {
        "id": "r-nhOXtj-6io"
      },
      "source": [
        "def cleanText(readData):#텍스트에 포함되어 있는 특수 문자 제거\n",
        "    text = re.sub(r'[-=+,#/\\?:^$.@*\\\"※~&%ㆍ!』\\\\‘|\\(\\)\\[\\]\\<\\>`\\'…》\\’\\“\\”\\·\\n\\r\\t■◇◆▶;\\xa0]', ' ', readData).strip( )\n",
        "    return text"
      ],
      "execution_count": null,
      "outputs": []
    },
    {
      "cell_type": "code",
      "metadata": {
        "id": "-jNC0NINjbZi"
      },
      "source": [
        "import re"
      ],
      "execution_count": null,
      "outputs": []
    },
    {
      "cell_type": "code",
      "metadata": {
        "id": "7nZq-fyN-nF6"
      },
      "source": [
        "sents = [cleanText(sent) for sent in minwon]  # 문장부호 제거\n",
        "sents[:1]"
      ],
      "execution_count": null,
      "outputs": []
    },
    {
      "cell_type": "code",
      "metadata": {
        "id": "AThsmk_5-zZ0"
      },
      "source": [
        "from tqdm import tqdm\n",
        "import time\n",
        "\n",
        "tokenized_data = []\n",
        "for sentence in tqdm(minwon):\n",
        "    tokenized_sentence = okt.nouns(sentence) # 토큰화\n",
        "    stopwords_removed_sentence = [word for word in tokenized_sentence if not word in stopwords] # 불용어 제거\n",
        "    tokenized_data.append(stopwords_removed_sentence)"
      ],
      "execution_count": null,
      "outputs": []
    },
    {
      "cell_type": "code",
      "metadata": {
        "id": "y_HTrnNfAEXl"
      },
      "source": [
        "tmp = sum(tokenized_data, [])"
      ],
      "execution_count": null,
      "outputs": []
    },
    {
      "cell_type": "code",
      "metadata": {
        "id": "Oy6p3N4NAEXl"
      },
      "source": [
        "len(tmp)"
      ],
      "execution_count": null,
      "outputs": []
    },
    {
      "cell_type": "code",
      "metadata": {
        "id": "ciMyPDWhAEXl"
      },
      "source": [
        "unique_word = list(set(tmp))"
      ],
      "execution_count": null,
      "outputs": []
    },
    {
      "cell_type": "code",
      "metadata": {
        "id": "bfbheE-JAMIq"
      },
      "source": [
        "len(unique_word)"
      ],
      "execution_count": null,
      "outputs": []
    },
    {
      "cell_type": "code",
      "metadata": {
        "id": "CmkA49pGBHbA"
      },
      "source": [
        "unique_word2 = [t for t in unique_word if len(t) >=2 ]"
      ],
      "execution_count": null,
      "outputs": []
    },
    {
      "cell_type": "code",
      "metadata": {
        "id": "DLL-mfmiGjpp"
      },
      "source": [
        "len(tokenized_data)"
      ],
      "execution_count": null,
      "outputs": []
    },
    {
      "cell_type": "markdown",
      "metadata": {
        "id": "NEJbNjwWleHJ"
      },
      "source": [
        "## 빈도별 키워드 Count"
      ]
    },
    {
      "cell_type": "code",
      "metadata": {
        "id": "mN-QZaJh_ycd"
      },
      "source": [
        "cnt = 0\n",
        "cnt_word = dict()\n",
        "\n",
        "for i in range(len(unique_word2)) :\n",
        "  for j in range(len(tokenized_data)) :\n",
        "     if unique_word2[i] in tokenized_data[j] :\n",
        "       cnt += 1\n",
        "  \n",
        "  k = unique_word2[i]\n",
        "  cnt_word[k] = cnt\n",
        "  cnt = 0"
      ],
      "execution_count": null,
      "outputs": []
    },
    {
      "cell_type": "code",
      "metadata": {
        "id": "eqktybrDkYD9"
      },
      "source": [
        "from operator import itemgetter"
      ],
      "execution_count": null,
      "outputs": []
    },
    {
      "cell_type": "code",
      "metadata": {
        "id": "wWuvED0CATVv"
      },
      "source": [
        "dict(sorted(cnt_word.items(), key = itemgetter(1), reverse = True)[:10])"
      ],
      "execution_count": null,
      "outputs": []
    },
    {
      "cell_type": "code",
      "metadata": {
        "id": "uM5tcPspGHKJ"
      },
      "source": [
        "top10 = dict(sorted(cnt_word.items(), key = itemgetter(1), reverse = True)[:10])"
      ],
      "execution_count": null,
      "outputs": []
    },
    {
      "cell_type": "code",
      "metadata": {
        "id": "wl8NUwxOljM7"
      },
      "source": [
        "pd.DataFrame(top10.items(), columns=['단어', '빈도수']).style.hide_index() "
      ],
      "execution_count": null,
      "outputs": []
    },
    {
      "cell_type": "markdown",
      "metadata": {
        "id": "G_hgZldclkbc"
      },
      "source": [
        "## 워드클라우드"
      ]
    },
    {
      "cell_type": "code",
      "metadata": {
        "id": "hFdhUOIvupvO"
      },
      "source": [
        "import matplotlib.pyplot as plt\n",
        "\n",
        "plt.rc('font', family='NanumBarunGothic') "
      ],
      "execution_count": null,
      "outputs": []
    },
    {
      "cell_type": "code",
      "metadata": {
        "id": "ntEk5GaYAWyp"
      },
      "source": [
        "plt.figure(figsize = (14,10))\n",
        "plt.rc('font', family='NanumBarunGothic')\n",
        "plt.rc('font', size = 12)\n",
        "\n",
        "\n",
        "wordcloud = WordCloud(font_path = '/content/drive/MyDrive/장흥군청/BMJUA(주아체).ttf',relative_scaling = 0.2,\n",
        "                      background_color = 'white', width = 2000,\n",
        "                      height = 1000,  max_font_size = 200).generate_from_frequencies(cnt_word)\n",
        "\n",
        "plt.imshow(wordcloud)\n",
        "plt.axis('off')\n",
        "#plt.title('장흥군청 민원봉사과 빈도수별 키워드 시각화')\n",
        "plt.show()"
      ],
      "execution_count": null,
      "outputs": []
    },
    {
      "cell_type": "code",
      "metadata": {
        "id": "MSA5NlyZByO7"
      },
      "source": [
        "cnt_word2 = {key: value for key, value in cnt_word.items() if value > 4}"
      ],
      "execution_count": null,
      "outputs": []
    },
    {
      "cell_type": "code",
      "metadata": {
        "id": "W9EpvU3DK2un"
      },
      "source": [
        "sorted(cnt_word2.items(), key = itemgetter(1), reverse = True)"
      ],
      "execution_count": null,
      "outputs": []
    },
    {
      "cell_type": "code",
      "metadata": {
        "id": "k4PrYgB8KE4w"
      },
      "source": [
        "font_path = r'C:\\Users\\user\\NanumBarunGothic.ttf'\n",
        "plt.figure(figsize = (14,10))\n",
        "plt.rc('font', family='NanumBarunGothic')\n",
        "plt.rc('font', size = 12)\n",
        "\n",
        "\n",
        "wordcloud = WordCloud(font_path = '/content/drive/MyDrive/장흥군청/BMJUA(주아체).ttf',relative_scaling = 0.2,\n",
        "                      background_color = 'white', width = 2000,\n",
        "                      height = 1000,  max_font_size = 200).generate_from_frequencies(cnt_word2)\n",
        "\n",
        "plt.imshow(wordcloud)\n",
        "plt.axis('off')\n",
        "#plt.title('장흥군청 민원봉사과 빈도수별 키워드 시각화(빈도수 4이상)')\n",
        "plt.show()"
      ],
      "execution_count": null,
      "outputs": []
    }
  ]
}