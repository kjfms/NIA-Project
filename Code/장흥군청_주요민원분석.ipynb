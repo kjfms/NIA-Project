{
  "nbformat": 4,
  "nbformat_minor": 0,
  "metadata": {
    "colab": {
      "name": "장흥군청 주요민원분석",
      "private_outputs": true,
      "provenance": [],
      "collapsed_sections": [],
      "toc_visible": true,
      "mount_file_id": "1FiV8euIAaw1WK-mMbhOBiLyFmRcUQWp4",
      "authorship_tag": "ABX9TyPNdkgGQMsOTeoe89RpiOwS",
      "include_colab_link": true
    },
    "kernelspec": {
      "name": "python3",
      "display_name": "Python 3"
    },
    "language_info": {
      "name": "python"
    },
    "accelerator": "GPU"
  },
  "cells": [
    {
      "cell_type": "markdown",
      "metadata": {
        "id": "view-in-github",
        "colab_type": "text"
      },
      "source": [
        "<a href=\"https://colab.research.google.com/github/kjfms/NIA-Project/blob/main/%EC%9E%A5%ED%9D%A5%EA%B5%B0%EC%B2%AD_%EC%A3%BC%EC%9A%94%EB%AF%BC%EC%9B%90%EB%B6%84%EC%84%9D.ipynb\" target=\"_parent\"><img src=\"https://colab.research.google.com/assets/colab-badge.svg\" alt=\"Open In Colab\"/></a>"
      ]
    },
    {
      "cell_type": "markdown",
      "metadata": {
        "id": "so8dNgztK3Qo"
      },
      "source": [
        "# 주요민원분석"
      ]
    },
    {
      "cell_type": "markdown",
      "metadata": {
        "id": "kKifskleEo80"
      },
      "source": [
        "### 패키지 설치"
      ]
    },
    {
      "cell_type": "code",
      "metadata": {
        "id": "ZiPZPDouxsN1"
      },
      "source": [
        "import numpy as np\n",
        "import pandas as pd"
      ],
      "execution_count": null,
      "outputs": []
    },
    {
      "cell_type": "code",
      "metadata": {
        "id": "ZkbHHcZXtUce"
      },
      "source": [
        "!sudo apt-get install -y fonts-nanum\n",
        "!sudo fc-cache -fv\n",
        "!rm ~/.cache/matplotlib -rf"
      ],
      "execution_count": null,
      "outputs": []
    },
    {
      "cell_type": "code",
      "metadata": {
        "id": "PlrYXe6rtzA0"
      },
      "source": [
        "!apt-get update !apt-get install g++ openjdk-8-jdk python-dev python3-dev \n",
        "!pip3 install JPype1-py3 \n",
        "!pip3 install konlpy\n",
        "!JAVA_HOME=\"C:\\Program Files\\Java\\jdk-16.0.2\""
      ],
      "execution_count": null,
      "outputs": []
    },
    {
      "cell_type": "code",
      "metadata": {
        "id": "gL2EKvHwuEC3"
      },
      "source": [
        "import konlpy\n",
        "from konlpy.tag import Kkma, Komoran, Hannanum, Okt\n",
        "from collections import Counter #카운트\n",
        "from konlpy.utils import pprint\n",
        "from konlpy.tag import Mecab"
      ],
      "execution_count": null,
      "outputs": []
    },
    {
      "cell_type": "code",
      "metadata": {
        "id": "6zjm8QjrXyed"
      },
      "source": [
        "from sklearn.feature_extraction.text import CountVectorizer\n",
        "from sklearn.feature_extraction.text import TfidfVectorizer"
      ],
      "execution_count": null,
      "outputs": []
    },
    {
      "cell_type": "code",
      "metadata": {
        "id": "PDoGNYqt75Jc"
      },
      "source": [
        "import nltk\n",
        "from nltk.corpus import stopwords\n",
        "from nltk.tokenize import word_tokenize\n",
        "nltk.download('punkt')"
      ],
      "execution_count": null,
      "outputs": []
    },
    {
      "cell_type": "code",
      "metadata": {
        "id": "nKoaQPxa5NAO"
      },
      "source": [
        "from google.colab import drive\n",
        "drive.mount('/content/drive')"
      ],
      "execution_count": null,
      "outputs": []
    },
    {
      "cell_type": "markdown",
      "metadata": {
        "id": "0mgSqnDpW56n"
      },
      "source": [
        "## 빈도 수 TOP10 추출 "
      ]
    },
    {
      "cell_type": "markdown",
      "metadata": {
        "id": "fkucbmmzIKy_"
      },
      "source": [
        "### 파일 불러오기\n",
        "#### '청구제목' '청구내용' '공개내용' 안에 있는 명사들(100회 이상 반복된 것만) 추출 후 그 명사들을 포함하는 행 수 추출 후 top10 추출"
      ]
    },
    {
      "cell_type": "code",
      "metadata": {
        "id": "k6SCQQB4_EmN"
      },
      "source": [
        "c = open('/content/drive/MyDrive/test/3column.txt', 'r', encoding='CP949')\n",
        "data3 = c.read()"
      ],
      "execution_count": null,
      "outputs": []
    },
    {
      "cell_type": "code",
      "metadata": {
        "id": "XLS0FPb2_EkZ"
      },
      "source": [
        "okt = Okt()\n",
        "noun = okt.nouns(data3)"
      ],
      "execution_count": null,
      "outputs": []
    },
    {
      "cell_type": "code",
      "metadata": {
        "id": "GX8xaDH2_Eij"
      },
      "source": [
        "# 한글자 명사 제거\n",
        "for i,v in enumerate(noun):\n",
        "        if len(v)<2:\n",
        "            noun.pop(i)"
      ],
      "execution_count": null,
      "outputs": []
    },
    {
      "cell_type": "code",
      "metadata": {
        "id": "hZzIByQ2_Egx"
      },
      "source": [
        "# 100번이상 반복된 것만 추출\n",
        "count = Counter(noun)\n",
        "noun_dict = {k : v for k, v in  count.items() if v >= 100}"
      ],
      "execution_count": null,
      "outputs": []
    },
    {
      "cell_type": "markdown",
      "metadata": {
        "id": "izl6lnHeT-Vl"
      },
      "source": [
        "### 불용어처리"
      ]
    },
    {
      "cell_type": "code",
      "metadata": {
        "id": "ZV8EqwDvAvL5"
      },
      "source": [
        "dd = open('/content/drive/MyDrive/test/불용어사전_논문.txt', 'r', encoding='utf-8')\n",
        "dd = dd.read()"
      ],
      "execution_count": null,
      "outputs": []
    },
    {
      "cell_type": "code",
      "metadata": {
        "id": "WC9bKqNJAvK-"
      },
      "source": [
        "result = {}\n",
        "for key,value in noun_dict.items():\n",
        "  if key not in dd:\n",
        "    result[key] = value"
      ],
      "execution_count": null,
      "outputs": []
    },
    {
      "cell_type": "markdown",
      "metadata": {
        "id": "U4ZSYF6vBIrf"
      },
      "source": [
        "\n",
        "\n",
        "---\n",
        "\n",
        "\n",
        "\n",
        "---\n",
        "\n"
      ]
    },
    {
      "cell_type": "code",
      "metadata": {
        "id": "O-jbxet9AvGW"
      },
      "source": [
        "# csv로 저장\n",
        "import csv\n",
        "with open('3column_result.csv','w',encoding = 'utf-8-sig') as f:\n",
        "    w = csv.writer(f)\n",
        "    w.writerow(result.keys())\n",
        "    w.writerow(result.values())"
      ],
      "execution_count": null,
      "outputs": []
    },
    {
      "cell_type": "markdown",
      "metadata": {
        "id": "y-eG53_DBjkl"
      },
      "source": [
        "### 특정 단어 포함 행 수 추출\n",
        "#### 단어의 빈도가 아닌 민원의 빈도를 추출하기 위해 특정 단어가 포함된 행을 추출(이때 중복된 행은 제거)"
      ]
    },
    {
      "cell_type": "code",
      "metadata": {
        "id": "3WlWaFNNBmy1"
      },
      "source": [
        "# 위에서 저장한 csv에서 키워드만 추출\n",
        "\n",
        "kw3_list = pd.read_csv('/content/drive/MyDrive/test/3column_keyword.csv',header = None, encoding = 'utf-8')"
      ],
      "execution_count": null,
      "outputs": []
    },
    {
      "cell_type": "code",
      "metadata": {
        "id": "BA_9hFvbBmxN"
      },
      "source": [
        "kw_list3 = kw3_list.values.tolist() #df -> 2차원 list\n",
        "kw3 = sum(kw_list3, []) # 2차원 list -> 1차원 list"
      ],
      "execution_count": null,
      "outputs": []
    },
    {
      "cell_type": "code",
      "metadata": {
        "id": "gPjZdWI2iT4D"
      },
      "source": [
        "# 원본데이터 불러오기\n",
        "data = pd.read_csv('/content/drive/MyDrive/test/청구서전체현황(2020-01-01_2020-12-31).csv',encoding = 'utf-8')"
      ],
      "execution_count": null,
      "outputs": []
    },
    {
      "cell_type": "code",
      "metadata": {
        "id": "r3zs7i9nBmpR"
      },
      "source": [
        "# 원본데이터에서 각 키워드가 포함된 행 수 추출\n",
        "\n",
        "a = []\n",
        "\n",
        "for d in kw3:\n",
        "    data1 = data[data['청구제목'].str.contains(d, na = False)]\n",
        "    data2 = data[data['청구내용'].str.contains(d, na = False)]\n",
        "    data3 = data[data['공개내용'].str.contains(d, na = False)]\n",
        "    result = pd.concat([data1,data2,data3])\n",
        "    result.drop_duplicates(inplace=True)\n",
        "    a.append(len(result))"
      ],
      "execution_count": null,
      "outputs": []
    },
    {
      "cell_type": "code",
      "metadata": {
        "id": "7vNdTx-uCp5k"
      },
      "source": [
        "c = pd.DataFrame(a) # list to df\n",
        "q = pd.concat([kw3_list,c], axis=1) # 키워드 리스트 열과 그 키워드가 포함된 행 수 열 병합\n",
        "q.columns = ['단어', '빈도'] # 열명 설정\n",
        "\n",
        "print(q)"
      ],
      "execution_count": null,
      "outputs": []
    },
    {
      "cell_type": "code",
      "metadata": {
        "id": "aCtaVswRDFpQ"
      },
      "source": [
        "# csv로 저장\n",
        "q.to_csv(\"hi3.csv\", encoding = 'utf-8-sig')"
      ],
      "execution_count": null,
      "outputs": []
    },
    {
      "cell_type": "markdown",
      "metadata": {
        "id": "tecWlWWVXHG_"
      },
      "source": [
        "\n",
        "\n",
        "---\n",
        "\n",
        "\n",
        "\n",
        "---\n",
        "\n"
      ]
    },
    {
      "cell_type": "code",
      "metadata": {
        "id": "rXdbjXG8NRGp"
      },
      "source": [
        "# 수동으로 불용어 다시 제거(-83)하고 csv파일로 불러옴"
      ],
      "execution_count": null,
      "outputs": []
    },
    {
      "cell_type": "code",
      "metadata": {
        "id": "ueva2d1COZFx"
      },
      "source": [
        "result3 = pd.read_csv('/content/drive/MyDrive/test/3번과제 - 빈도 수 집계 최종 결과.csv', header=None, encoding = 'utf-8')"
      ],
      "execution_count": null,
      "outputs": []
    },
    {
      "cell_type": "markdown",
      "metadata": {
        "id": "HF6UdagINOky"
      },
      "source": [
        "### 워드클라우드"
      ]
    },
    {
      "cell_type": "code",
      "metadata": {
        "id": "GrjO9NLDSiaT"
      },
      "source": [
        "result5 = result3.set_index(0).to_dict() # 첫번째 열을 인덱스로 설정후 df -> dict 변환"
      ],
      "execution_count": null,
      "outputs": []
    },
    {
      "cell_type": "code",
      "metadata": {
        "id": "tkxjWrb3S8LK"
      },
      "source": [
        "# 이렇게 가져오면 2중 dict이 되어서 그 안에 있는 dict만 추출\n",
        "result6 = result5[1]"
      ],
      "execution_count": null,
      "outputs": []
    },
    {
      "cell_type": "code",
      "metadata": {
        "id": "eBgL-2gCNNxq"
      },
      "source": [
        "# 폰트 설정\n",
        "font = '/usr/share/fonts/truetype/nanum/NanumSquareRoundR.ttf'\n",
        "\n",
        "# 워드클라우드 설정\n",
        "wc = WordCloud(font_path=font,\\\n",
        "\t\tbackground_color=\"white\", \\\n",
        "\t\twidth=2000, \\\n",
        "\t\theight=1000, \\\n",
        "\t\tmax_words=100, \\\n",
        "\t\tmax_font_size=300)\n",
        "wc = wc.generate_from_frequencies(result6)\n",
        "\n",
        "plt.figure(figsize=(10,10))\n",
        "plt.imshow(wc, interpolation='bilinear')\n",
        "plt.axis('off')\n",
        "plt.show()"
      ],
      "execution_count": null,
      "outputs": []
    },
    {
      "cell_type": "markdown",
      "metadata": {
        "id": "kdKGpPrRXwwV"
      },
      "source": [
        "## TF-IDF 점수 추출"
      ]
    },
    {
      "cell_type": "code",
      "metadata": {
        "id": "BFFwiZDeaKJj"
      },
      "source": [
        "testdata = data['청구내용'].values.tolist()"
      ],
      "execution_count": null,
      "outputs": []
    },
    {
      "cell_type": "code",
      "metadata": {
        "id": "BfcnpTKJbYTM"
      },
      "source": [
        "testdata[:3]"
      ],
      "execution_count": null,
      "outputs": []
    },
    {
      "cell_type": "code",
      "metadata": {
        "id": "ONnkdkFbb2tb"
      },
      "source": [
        "tfidf_vectorizer = TfidfVectorizer(analyzer='word',\n",
        "                                   lowercase=False,\n",
        "                                   tokenizer=None,\n",
        "                                   preprocessor=None,\n",
        "                                   min_df=5,\n",
        "                                   smooth_idf=True)"
      ],
      "execution_count": null,
      "outputs": []
    },
    {
      "cell_type": "code",
      "metadata": {
        "id": "P-NJ8iB9b1-v"
      },
      "source": [
        "tfidf_vector = tfidf_vectorizer.fit_transform(testdata)"
      ],
      "execution_count": null,
      "outputs": []
    },
    {
      "cell_type": "code",
      "metadata": {
        "id": "lwy17qH8b17L"
      },
      "source": [
        "tfidf_scores = tfidf_vector.toarray().sum(axis=0)"
      ],
      "execution_count": null,
      "outputs": []
    },
    {
      "cell_type": "code",
      "metadata": {
        "id": "I6Z_aUrcb110"
      },
      "source": [
        "tfidf_idx = np.argsort(-tfidf_scores)"
      ],
      "execution_count": null,
      "outputs": []
    },
    {
      "cell_type": "code",
      "metadata": {
        "id": "-tFop3Tzb1PZ"
      },
      "source": [
        "tfidf_scores"
      ],
      "execution_count": null,
      "outputs": []
    },
    {
      "cell_type": "code",
      "metadata": {
        "id": "hw5_MKyZcRJZ"
      },
      "source": [
        "god = pd.DataFrame(tfidf_vector.toarray(), columns=tfidf_vectorizer.get_feature_names())  "
      ],
      "execution_count": null,
      "outputs": []
    },
    {
      "cell_type": "code",
      "metadata": {
        "id": "OrFBDRI5cq-4"
      },
      "source": [
        "god.to_csv('sample2.csv', encoding='euc-kr')"
      ],
      "execution_count": null,
      "outputs": []
    },
    {
      "cell_type": "markdown",
      "metadata": {
        "id": "ypFevEvPcrjA"
      },
      "source": [
        "\n",
        "\n",
        "---\n",
        "\n",
        "\n",
        "\n",
        "---\n",
        "\n"
      ]
    },
    {
      "cell_type": "code",
      "metadata": {
        "id": "Pz7pq6rAcRrk"
      },
      "source": [
        "tfidf_vectorizer.fit(testdata) # 단어를 학습시킴 \n",
        "tfidf_vectorizer.vocabulary_ # 단어사전을 출력 \n",
        "sorted(tfidf_vectorizer.vocabulary_.items()) # 단어사전 정렬"
      ],
      "execution_count": null,
      "outputs": []
    },
    {
      "cell_type": "code",
      "metadata": {
        "id": "VJDakgNrciEq"
      },
      "source": [
        " tfidf_vectorizer.idf_ #idf 벡터화"
      ],
      "execution_count": null,
      "outputs": []
    },
    {
      "cell_type": "code",
      "metadata": {
        "id": "pAL_WG9GcmmZ"
      },
      "source": [
        "a = tfidf_vectorizer.transform(testdata).toarray()"
      ],
      "execution_count": null,
      "outputs": []
    },
    {
      "cell_type": "code",
      "metadata": {
        "id": "SI-R7-pocv5B"
      },
      "source": [
        "df = pd.DataFrame(a)\n",
        "df.to_csv('sample.csv')"
      ],
      "execution_count": null,
      "outputs": []
    },
    {
      "cell_type": "code",
      "metadata": {
        "id": "gIxQ6566dHWq"
      },
      "source": [
        "tf = pd.DataFrame(tfidf_vectorizer.transform(testdata).toarray(), columns=tfidf_vectorizer.get_feature_names())  "
      ],
      "execution_count": null,
      "outputs": []
    },
    {
      "cell_type": "code",
      "metadata": {
        "id": "Sty7vWSRetVV"
      },
      "source": [
        "tf.to_csv('sample1.csv', encoding='euc-kr')"
      ],
      "execution_count": null,
      "outputs": []
    },
    {
      "cell_type": "markdown",
      "metadata": {
        "id": "cNye93aLpCPr"
      },
      "source": [
        "\n",
        "\n",
        "---\n",
        "\n",
        "\n",
        "\n",
        "---\n",
        "\n"
      ]
    },
    {
      "cell_type": "code",
      "metadata": {
        "id": "rFWbMZaBe9-j"
      },
      "source": [
        "from math import log"
      ],
      "execution_count": null,
      "outputs": []
    },
    {
      "cell_type": "code",
      "metadata": {
        "id": "qv-DUkOMpE78"
      },
      "source": [
        "N = len(testdata) # 총 문서의 수\n",
        "\n",
        "def tf(t, d):\n",
        "    return d.count(t)\n",
        "\n",
        "def idf(t):\n",
        "    df = 0\n",
        "    for doc in testdata:\n",
        "        df += t in doc\n",
        "    return log(N/(df + 1))\n",
        "\n",
        "def tfidf(t, d):\n",
        "    return tf(t,d)* idf(t)"
      ],
      "execution_count": null,
      "outputs": []
    },
    {
      "cell_type": "markdown",
      "metadata": {
        "id": "4JFKRwvnXPM9"
      },
      "source": [
        "## TF-IDF 점수 TOP10 추출"
      ]
    },
    {
      "cell_type": "markdown",
      "metadata": {
        "id": "67RuuazAXVLo"
      },
      "source": [
        "### 파일 불러오기"
      ]
    },
    {
      "cell_type": "code",
      "metadata": {
        "id": "1hWNYUduediF"
      },
      "source": [
        "data = pd.read_csv('/content/drive/MyDrive/test/청구서전체현황(2020-01-01_2020-12-31).csv', encoding = 'utf-8')"
      ],
      "execution_count": null,
      "outputs": []
    },
    {
      "cell_type": "code",
      "metadata": {
        "id": "n_2ImYvkesRO"
      },
      "source": [
        "data = data[[\"접수일\",\"청구제목\",\"청구내용\",\"공개내용\"]]"
      ],
      "execution_count": null,
      "outputs": []
    },
    {
      "cell_type": "code",
      "metadata": {
        "id": "decegkwNXO6J"
      },
      "source": [
        "tfidf_top10 = ['보건소','상금','토양오염','음식점','식품','폐기물','의약품','주택','건축','정화']"
      ],
      "execution_count": null,
      "outputs": []
    },
    {
      "cell_type": "markdown",
      "metadata": {
        "id": "4ebhDd8MIP63"
      },
      "source": [
        "### TOP10 단어 포함 행 수 추출"
      ]
    },
    {
      "cell_type": "code",
      "metadata": {
        "id": "Ob4ey3rPNL3Y"
      },
      "source": [
        "# 각 키워드가 포함된 행 수 추출\n",
        "\n",
        "a = []\n",
        "\n",
        "for d in tfidf_top10:\n",
        "    data1 = data[data['청구제목'].str.contains(d, na = False)]\n",
        "    data2 = data[data['청구내용'].str.contains(d, na = False)]\n",
        "    data3 = data[data['공개내용'].str.contains(d, na = False)]\n",
        "    result = pd.concat([data1,data2,data3])\n",
        "    a.append(len(result))\n",
        "    result.drop_duplicates(inplace=True)\n",
        "    print(result)"
      ],
      "execution_count": null,
      "outputs": []
    },
    {
      "cell_type": "code",
      "metadata": {
        "id": "abVfG7mcZK00"
      },
      "source": [
        "b = pd.DataFrame(a) # list to df\n",
        "print(b)"
      ],
      "execution_count": null,
      "outputs": []
    },
    {
      "cell_type": "markdown",
      "metadata": {
        "id": "BgmPW6-ka77T"
      },
      "source": [
        "\n",
        "\n",
        "---\n",
        "\n",
        "\n",
        "\n",
        "---\n",
        "\n"
      ]
    },
    {
      "cell_type": "code",
      "metadata": {
        "id": "kXgSkoKjZnx-"
      },
      "source": [
        "# csv로 저장\n",
        "b.to_csv(\"plz.csv\", encoding = 'utf-8-sig')"
      ],
      "execution_count": null,
      "outputs": []
    },
    {
      "cell_type": "markdown",
      "metadata": {
        "id": "GtFEsKEOcpbt"
      },
      "source": [
        "### TOP10 민원 키워드 현황 및 발생 추이 "
      ]
    },
    {
      "cell_type": "code",
      "metadata": {
        "id": "y9MQFWPON_tE"
      },
      "source": [
        "# 필요한 패키지와 라이브러리를 가져옴\n",
        "%matplotlib inline \n",
        "\n",
        "import matplotlib as mpl\n",
        "import matplotlib.pyplot as plt\n",
        "import matplotlib.font_manager as fm\n",
        "\n",
        "# 그래프에서 마이너스 폰트 깨지는 문제에 대한 대처\n",
        "mpl.rcParams['axes.unicode_minus'] = False"
      ],
      "execution_count": null,
      "outputs": []
    },
    {
      "cell_type": "code",
      "metadata": {
        "id": "DnrtvVWChDt_"
      },
      "source": [
        "import seaborn as sns\n",
        "import matplotlib.pyplot as plt\n",
        "import matplotlib.ticker as ticker # 그래프 축 간격"
      ],
      "execution_count": null,
      "outputs": []
    },
    {
      "cell_type": "code",
      "metadata": {
        "id": "EtAsgFkIdqb_"
      },
      "source": [
        "data = pd.read_csv('/content/drive/MyDrive/test/청구서전체현황(2020-01-01_2020-12-31).csv',encoding = 'utf-8')\n",
        "data = data[['접수일', '청구제목', '청구내용', '공개내용']] # 월별로 묶기 위해 '접수일' 열 추가"
      ],
      "execution_count": null,
      "outputs": []
    },
    {
      "cell_type": "code",
      "metadata": {
        "id": "9OacnEPSd_BF"
      },
      "source": [
        "import datetime\n",
        "\n",
        "data['접수일'] = pd.to_datetime(data['접수일']) # '접수일'열 datetime 형식으로 변경\n",
        "data['접수월'] = data['접수일'].dt.month # '접수일'에서 월만 추출해서 '접수월'열 생성"
      ],
      "execution_count": null,
      "outputs": []
    },
    {
      "cell_type": "code",
      "metadata": {
        "id": "D7imIr2AHmAa"
      },
      "source": [
        "tfidf_top10 = ['보건소','상금','토양오염','음식점','식품','폐기물','의약품','주택','건축','정화'] # tf-idf 점수 TOP10 키워드"
      ],
      "execution_count": null,
      "outputs": []
    },
    {
      "cell_type": "code",
      "metadata": {
        "id": "wZ1BKoDfZtfK"
      },
      "source": [
        "# TOP10 키워드가 들어간 행 추출하여 df로 병합\n",
        "# 월별로 그룹화\n",
        "\n",
        "df_base= pd.DataFrame(columns=['월','민원수'])\n",
        "\n",
        "for b in tfidf_top10:\n",
        "    data1 = data[data['청구제목'].str.contains(b, na = False)]\n",
        "    data2 = data[data['청구내용'].str.contains(b, na = False)]\n",
        "    data3 = data[data['공개내용'].str.contains(b, na = False)]\n",
        "    ldata = pd.concat([data1,data2,data3])\n",
        "    ldata.drop_duplicates(inplace=True)\n",
        "\n",
        "    group_month = ldata.groupby(ldata['접수월'], as_index=False)['접수일'].count() # 월 별로 민원 발생 빈도 추출 (접수일에는 NULL 없음)\n",
        "    month_data = pd.DataFrame(group_month) # df로 변환\n",
        "    month_data.columns = ['월', '민원수'] # 열명 변경\n",
        "    df_base=df_base.append(month_data)\n",
        "df_base"
      ],
      "execution_count": null,
      "outputs": []
    },
    {
      "cell_type": "code",
      "metadata": {
        "id": "wptK059ubV9l"
      },
      "source": [
        "# csv로 저장\n",
        "df_base.to_csv(\"plz2.csv\", encoding = 'utf-8-sig')"
      ],
      "execution_count": null,
      "outputs": []
    },
    {
      "cell_type": "code",
      "metadata": {
        "id": "c7qJH7Yzc-3G"
      },
      "source": [
        "# TOP10 키워드가 들어간 행 추출하여 df로 병합\n",
        "# 월별로 그룹화하고 시각화\n",
        "\n",
        "for b in tfidf_top10:\n",
        "    data1 = data[data['청구제목'].str.contains(b, na = False)]\n",
        "    data2 = data[data['청구내용'].str.contains(b, na = False)]\n",
        "    data3 = data[data['공개내용'].str.contains(b, na = False)]\n",
        "\n",
        "    ldata = pd.concat([data1,data2,data3])\n",
        "    ldata.drop_duplicates(inplace=True)\n",
        "\n",
        "    group_month = ldata.groupby(ldata['접수월'], as_index=False)['접수일'].count() # 월 별로 민원 발생 빈도 추출 (접수일에는 NULL 없음)\n",
        "    month_data = pd.DataFrame(group_month) # df로 변환\n",
        "    month_data.columns = ['월', '민원수'] # 열명 변경\n",
        "\n",
        "    plt.figure(figsize=(6,4))\n",
        "    plt.plot(month_data['월'], month_data['민원수'], color = 'blue')\n",
        "    plt.xlim(1,12)                                                   # x축 범위\n",
        "    ax=plt.axes()\n",
        "    ax.xaxis.set_major_locator(ticker.MultipleLocator(2))            # x축 간격\n",
        "    plt.xlabel('월')\n",
        "    plt.ylabel('민원수')\n",
        "    plt.title(b, fontsize = 20)\n",
        "    plt.rc('font', family='NanumBarunGothic') \n",
        "    plt.show()"
      ],
      "execution_count": null,
      "outputs": []
    }
  ]
}
