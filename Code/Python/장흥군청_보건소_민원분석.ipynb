{
  "nbformat": 4,
  "nbformat_minor": 0,
  "metadata": {
    "colab": {
      "name": "장흥군청 보건소 민원분석",
      "provenance": [],
      "collapsed_sections": [],
      "mount_file_id": "17kUTUuWH98Db-YMBj_pgD32V8nNKFlnM",
      "authorship_tag": "ABX9TyO8vGFUfzBLwB3SUKf2Onz9",
      "include_colab_link": true
    },
    "kernelspec": {
      "name": "python3",
      "display_name": "Python 3"
    },
    "language_info": {
      "name": "python"
    },
    "accelerator": "GPU"
  },
  "cells": [
    {
      "cell_type": "markdown",
      "metadata": {
        "id": "view-in-github",
        "colab_type": "text"
      },
      "source": [
        "<a href=\"https://colab.research.google.com/github/kjfms/NIA-Project/blob/main/Code/%EC%9E%A5%ED%9D%A5%EA%B5%B0%EC%B2%AD_%EB%B3%B4%EA%B1%B4%EC%86%8C_%EB%AF%BC%EC%9B%90%EB%B6%84%EC%84%9D.ipynb\" target=\"_parent\"><img src=\"https://colab.research.google.com/assets/colab-badge.svg\" alt=\"Open In Colab\"/></a>"
      ]
    },
    {
      "cell_type": "code",
      "metadata": {
        "id": "5y-PbPK_H14p"
      },
      "source": [
        "# 코랩에서 한글 깨질 때 실행\n",
        "!sudo apt-get install -y fonts-nanum\n",
        "!sudo fc-cache -fv\n",
        "!rm ~/.cache/matplotlib -rf"
      ],
      "execution_count": null,
      "outputs": []
    },
    {
      "cell_type": "code",
      "metadata": {
        "id": "OWylaYYUFGSW"
      },
      "source": [
        "import pandas as pd\n",
        "import numpy as np\n",
        "import matplotlib.pyplot as plt\n",
        "import seaborn as sns\n",
        "import datetime\n",
        "\n",
        "from gensim.models import Word2Vec\n",
        "from gensim.models import KeyedVectors\n",
        "from sklearn.manifold import TSNE\n",
        "from sklearn.decomposition import PCA\n",
        "import gensim"
      ],
      "execution_count": null,
      "outputs": []
    },
    {
      "cell_type": "code",
      "metadata": {
        "id": "akxzwiDJFU-w"
      },
      "source": [
        "data = pd.read_csv('/content/drive/MyDrive/Colab Notebooks/NIA/11월/청구서전체현황(2020-01-01_2020-12-31).csv',encoding = 'utf-8')"
      ],
      "execution_count": null,
      "outputs": []
    },
    {
      "cell_type": "markdown",
      "metadata": {
        "id": "XWNqlpRrGJw1"
      },
      "source": [
        "## 변수전처리"
      ]
    },
    {
      "cell_type": "code",
      "metadata": {
        "id": "YRrnoj37FhMz"
      },
      "source": [
        "data['접수일'] = pd.to_datetime(data['접수일'],format = '%Y-%m-%d')\n",
        "data['처리기한'] = pd.to_datetime(data['처리기한'],format = '%Y-%m-%d')\n",
        "data['처리완료일자'] = pd.to_datetime(data['처리완료일자'],format = '%Y-%m-%d')\n",
        "data['공개일'] = pd.to_datetime(data['공개일'],format = '%Y-%m-%d')"
      ],
      "execution_count": null,
      "outputs": []
    },
    {
      "cell_type": "code",
      "metadata": {
        "id": "KXUJpsOvGMZ0"
      },
      "source": [
        "# 결측값에 공백넣기 : 명사추출때 코드 돌아가게 하기 위해서\n",
        "data.fillna({'처리부서':' ','공개내용' : ' '},inplace=True)"
      ],
      "execution_count": null,
      "outputs": []
    },
    {
      "cell_type": "code",
      "metadata": {
        "id": "pKJn3mU8GQR2"
      },
      "source": [
        "# 부서명 추출\n",
        "for i in range(len(data)):\n",
        "  if data.loc[i,'처리부서'] == ' ':\n",
        "    data.loc[i,'부서명'] = np.nan\n",
        "  else:\n",
        "    data.loc[i,'부서명'] = data.loc[i,'처리부서'].split(' ')[2]"
      ],
      "execution_count": null,
      "outputs": []
    },
    {
      "cell_type": "code",
      "metadata": {
        "id": "BdWgEA9ojiyn"
      },
      "source": [
        "data['부서명'].value_counts()"
      ],
      "execution_count": null,
      "outputs": []
    },
    {
      "cell_type": "markdown",
      "metadata": {
        "id": "pg81NYtIhuJh"
      },
      "source": [
        "## 전체 데이터 집계"
      ]
    },
    {
      "cell_type": "code",
      "metadata": {
        "id": "b6KyC4ZRhze2"
      },
      "source": [
        "# 접수일 월추출\n",
        "data['접수월'] = data['접수일'].dt.month\n",
        "# 처리완료일자 월추출\n",
        "data['처리완료월'] = data['처리완료일자'].dt.month\n",
        "# 공개일 월추출\n",
        "data['공개월'] = data['공개일'].dt.month"
      ],
      "execution_count": null,
      "outputs": []
    },
    {
      "cell_type": "code",
      "metadata": {
        "id": "ceqMcDowhzbw"
      },
      "source": [
        "# 접수월 별 청구방법 bar-plot\n",
        "plt.rc('font', family='NanumBarunGothic')\n",
        "\n",
        "plt.figure(figsize = (10,8))\n",
        "sns.countplot(x = '접수월',hue = '청구방법', data = data, dodge = False , palette = 'Set3')\n",
        "plt.title('접수월별 민원 청구방법 그래프')\n",
        "plt.show()"
      ],
      "execution_count": null,
      "outputs": []
    },
    {
      "cell_type": "code",
      "metadata": {
        "id": "c0_Or82LkW95"
      },
      "source": [
        "# 공개월 별 공개형태 bar-plot\n",
        "plt.rc('font', family='NanumBarunGothic')\n",
        "\n",
        "plt.figure(figsize = (10,8))\n",
        "sns.countplot(x = '공개월',hue = '공개형태', data = data, dodge = False , palette = 'Set3')\n",
        "plt.title('공개월별 민원 공개형태 그래프')\n",
        "plt.show()"
      ],
      "execution_count": null,
      "outputs": []
    },
    {
      "cell_type": "code",
      "metadata": {
        "id": "XbDGgMzzkW7G"
      },
      "source": [
        "# 접수월 별 담당부서 bar-plot\n",
        "plt.figure(figsize = (30,24))\n",
        "plt.rc('font', family='NanumBarunGothic')\n",
        "\n",
        "for i in range(0,12):\n",
        "  plt.subplot(3,4,i+1)\n",
        "  pie = data[data['접수월'] == i+1]['부서명'].value_counts()\n",
        "  pie.plot(kind = 'pie')\n",
        "  plt.spring()\n",
        "  plt.xticks(rotation = 70)\n",
        "  plt.title(i+1)\n",
        "plt.show()"
      ],
      "execution_count": null,
      "outputs": []
    },
    {
      "cell_type": "markdown",
      "metadata": {
        "id": "5rL-Nu_-FWAp"
      },
      "source": [
        "## Konlpy 설치"
      ]
    },
    {
      "cell_type": "code",
      "metadata": {
        "id": "C6DQpzhHFVtp"
      },
      "source": [
        "!sudo apt-get install -y fonts-nanum\n",
        "!sudo fc-cache -fv\n",
        "!rm ~/.cache/matplotlib -rf"
      ],
      "execution_count": null,
      "outputs": []
    },
    {
      "cell_type": "code",
      "metadata": {
        "id": "uKVQuwc5FbyN"
      },
      "source": [
        "!apt-get update !apt-get install g++ openjdk-8-jdk python-dev python3-dev \n",
        "!pip3 install JPype1-py3 \n",
        "!pip3 install konlpy \n",
        "!JAVA_HOME=\"C:\\Program Files\\Java\\jdk-16.0.2\""
      ],
      "execution_count": null,
      "outputs": []
    },
    {
      "cell_type": "code",
      "metadata": {
        "id": "2MoDBc6aFb_i"
      },
      "source": [
        "%%bash\n",
        "bash <(curl -s https://raw.githubusercontent.com/konlpy/konlpy/master/scripts/mecab.sh)\n",
        "pip3 install /tmp/mecab-python-0.996"
      ],
      "execution_count": null,
      "outputs": []
    },
    {
      "cell_type": "code",
      "metadata": {
        "id": "CIKrRZclFd_Q"
      },
      "source": [
        "import konlpy\n",
        "from konlpy.tag import Kkma, Komoran, Hannanum, Okt\n",
        "from konlpy.utils import pprint\n",
        "from konlpy.tag import Mecab\n",
        "\n",
        "from matplotlib import font_manager, rc\n",
        "import matplotlib.font_manager as fm \n",
        "from wordcloud import WordCloud\n",
        "\n",
        "from collections import Counter"
      ],
      "execution_count": null,
      "outputs": []
    },
    {
      "cell_type": "code",
      "metadata": {
        "id": "9Ms8a9k6FgJ_"
      },
      "source": [
        "mecab = Mecab()\n",
        "okt = Okt()"
      ],
      "execution_count": null,
      "outputs": []
    },
    {
      "cell_type": "markdown",
      "metadata": {
        "id": "2FrC-afWGSlw"
      },
      "source": [
        "## 보건소에 해당하는 행만 추출"
      ]
    },
    {
      "cell_type": "code",
      "metadata": {
        "id": "0DJVQp1uGR8M"
      },
      "source": [
        "# 총 325개\n",
        "data2 = data[data['부서명'] == '보건소']"
      ],
      "execution_count": null,
      "outputs": []
    },
    {
      "cell_type": "code",
      "metadata": {
        "id": "jWsB9SLZG93t"
      },
      "source": [
        "data2.reset_index(drop = True, inplace = True)"
      ],
      "execution_count": null,
      "outputs": []
    },
    {
      "cell_type": "markdown",
      "metadata": {
        "id": "7smMvUkVGfrM"
      },
      "source": [
        "## 학습용 데이터 생성"
      ]
    },
    {
      "cell_type": "code",
      "metadata": {
        "id": "F1lcZg6bGbBp"
      },
      "source": [
        "# 첨부파일이 있는 민원들의 접수번호\n",
        "contents_null = [6343850,6342663,6347859,6361980, 6360414,6365844,6370809,6376187, 6376127,6375886,6392497, 6408176 ,6411220 ,6424017 ,6423993, 6421206, 6429766, 6433720, 6433613, 6470149,\n",
        "6477407, 6482634,6486872,6486866,6484838,6496572,6501522,6501474,6504238,6513102,6511367,6511128,6521753,6511115,6533115,6552564, 6564301,6563158, 6568608, 6580512, 6587557, 6592447, 6599511,\n",
        "6599500, 6599471, 6597479, 6597189, 6645357, 6645357, 6659233, 6663445, 6662997, 6671311, 6670436, 6678598, 6682150, 6696458, 6699212, 6703218, 6717327, 6724342, 6756529, 6772665, 6794693,\n",
        "6793919, 6817680, 6822431, 6821205, 6833506, 6839221, 6838795, 6843988, 6855427, 6869560, 6907249, 6936585, 7148167, 7288599, 7290360]"
      ],
      "execution_count": null,
      "outputs": []
    },
    {
      "cell_type": "code",
      "metadata": {
        "id": "teLQ7LW5GopU"
      },
      "source": [
        "sentence = []\n",
        "\n",
        "for i in range(len(data2)):\n",
        "  if data2.loc[i,'접수번호'] in contents_null: # 첨부파일이 있는 민원인 경우\n",
        "    contents = data2.loc[i,'공개내용'] # 공개내용 가져옴\n",
        "    title = '' # 타이틀은 안가져옴\n",
        "  \n",
        "  else: # 첨부파일이 없는 민원인 경우\n",
        "    contents = data2.loc[i,'청구내용'] # 청구내용 가져옴\n",
        "    title = data2.loc[i,'청구제목'] # 청구제목 가져옴\n",
        "\n",
        "  sentence.append([c for c in okt.nouns(contents) if len(c) >=2 ])\n",
        "  sentence.append([t for t in okt.nouns(title) if len(t) >=2 ])"
      ],
      "execution_count": null,
      "outputs": []
    },
    {
      "cell_type": "markdown",
      "metadata": {
        "id": "Mq_jMDLMHPji"
      },
      "source": [
        "## TF-IDF"
      ]
    },
    {
      "cell_type": "code",
      "metadata": {
        "id": "zWCv8en9HXRV"
      },
      "source": [
        "from sklearn.feature_extraction.text import TfidfVectorizer\n"
      ],
      "execution_count": null,
      "outputs": []
    },
    {
      "cell_type": "code",
      "metadata": {
        "id": "ScA0peUOIjSq"
      },
      "source": [
        "nouns_df = pd.DataFrame({'nouns' : sentence})"
      ],
      "execution_count": null,
      "outputs": []
    },
    {
      "cell_type": "markdown",
      "metadata": {
        "id": "ENsyMujYHRQ3"
      },
      "source": [
        "### 1. stopwords 없이"
      ]
    },
    {
      "cell_type": "code",
      "metadata": {
        "id": "Q02J7lQyG6mJ"
      },
      "source": [
        "tfidf_vectorizer1 = TfidfVectorizer(analyzer='word',\n",
        "                             lowercase=False,\n",
        "                             tokenizer=None,\n",
        "                             preprocessor=None,\n",
        "                             min_df=5, # 최소 문서 수 5건\n",
        "                             ngram_range=(1,1), #Bigram : ngram_range=(1,2)\n",
        "                             smooth_idf=True,\n",
        "                             )"
      ],
      "execution_count": null,
      "outputs": []
    },
    {
      "cell_type": "code",
      "metadata": {
        "id": "qIDRXmCgHWaZ"
      },
      "source": [
        "tfidf_vector = tfidf_vectorizer1.fit_transform(nouns_df['nouns'].astype('str')) # tf-idf값으로 채워진 DTM생성\n",
        "tfidf_scores = tfidf_vector.toarray().sum(axis = 0)\n",
        "tfidf_idx = np.argsort(-tfidf_scores) # 1차원 배열 거꾸로 정렬 의미\n",
        "tfidf_scores = tfidf_scores[tfidf_idx] # 인덱스\n",
        "tfidf_vocab = np.array(tfidf_vectorizer1.get_feature_names())[tfidf_idx] # 인덱스에 해당하는 단어 추출\n"
      ],
      "execution_count": null,
      "outputs": []
    },
    {
      "cell_type": "code",
      "metadata": {
        "id": "Hmmycgf9IfuA"
      },
      "source": [
        "tfidf_df = pd.DataFrame({'단어' : tfidf_vocab, '점수' : tfidf_scores})"
      ],
      "execution_count": null,
      "outputs": []
    },
    {
      "cell_type": "markdown",
      "metadata": {
        "id": "frhDWgFJI0E4"
      },
      "source": [
        "#### 워드클라우드"
      ]
    },
    {
      "cell_type": "code",
      "metadata": {
        "id": "tYAGa-0QIxhm"
      },
      "source": [
        "tfidf_dict = {}\n",
        "\n",
        "for i in range(len(tfidf_df)):\n",
        "  tfidf_dict[tfidf_df.loc[i,'단어']] = tfidf_df.loc[i,'점수']"
      ],
      "execution_count": null,
      "outputs": []
    },
    {
      "cell_type": "code",
      "metadata": {
        "id": "APsX3h7sI5N3"
      },
      "source": [
        "plt.figure(figsize = (14,10))\n",
        "plt.rc('font', family='NanumBarunGothic')\n",
        "\n",
        "wordcloud = WordCloud(font_path = '/content/drive/MyDrive/Colab Notebooks/졸업논문/BMJUA_TTF.TTF',relative_scaling = 0.2,\n",
        "                      background_color = 'black', width = 2000,\n",
        "                      height = 1000,  max_font_size = 200).generate_from_frequencies(tfidf_dict)\n",
        "\n",
        "plt.imshow(wordcloud)\n",
        "plt.axis('off')\n",
        "# plt.title('skip-gram으로 연관성 높은 상위 50개 단어 삭제 후 워드클라우드 ')\n",
        "plt.show()"
      ],
      "execution_count": null,
      "outputs": []
    },
    {
      "cell_type": "markdown",
      "metadata": {
        "id": "3KhtL4sEI_Ny"
      },
      "source": [
        "### 2. 불용어처리 후"
      ]
    },
    {
      "cell_type": "code",
      "metadata": {
        "id": "KZy60AALI7Ng"
      },
      "source": [
        "stopwords = ['아래', '상상', '제안', '까지', '닷컴', '포털', '사이트', '천만', '오아시스', '이벤트', '접수','서울시','서울','특별시',\n",
        "             '천만상상','파일','첨부','응모','슬로건','공모','공모전','응모전','신청','경우','때문','정도','사항',\n",
        "                   '해당','겁니다','이것','저것','그것','돋움','신명', '태명', '한컴', '돋움',\n",
        "                   '동안','거기','저기','여기','대부분','누구','무엇','고딕','만큼','굴림','감사','건지','텐데',\n",
        "                   '안녕','이번','걸로','수고','겁니까','그간','그건','그때','글쓴이','누가','니다','다면',\n",
        "                   '뭔가','상상오아시스','하다','이다','되다','같다','궁','자체','서체','정','서','이','을','있다','없다', '체','관련',\n",
        "                   '생각', '현재', '진행', '사람', '마음', '남산', '내용', '현실','음','막','김','변','조',\n",
        "                   '오','참','동','지금','주변','대상','부분','요즘','하루','마련','세대','시간','이상','행위',\n",
        "                   '활동','구분','사실','과정','모습','기간','선정','단지','자신','발생','지역','기대','마련',\n",
        "                   '장소','모두','부탁','제공','이용','해주','당시','최근','민원','문제','문제점','현황','개선','방안',\n",
        "                   '문의','답변','일동','요청','담당자','직원','방법','사용','활용','확인','방식','예전']\n",
        "\n",
        "stopwords.append('자료')\n",
        "stopwords.append('정보')\n",
        "stopwords.append('공개')\n",
        "stopwords.append('청구')\n",
        "stopwords.append('정보공개')\n"
      ],
      "execution_count": null,
      "outputs": []
    },
    {
      "cell_type": "code",
      "metadata": {
        "id": "szCoa0h6JDhM"
      },
      "source": [
        "tfidf_vectorizer2 = TfidfVectorizer(analyzer='word',\n",
        "                             lowercase=False,\n",
        "                             tokenizer=None,\n",
        "                             preprocessor=None,\n",
        "                             min_df=5, # 최소 문서 수 5건\n",
        "                             ngram_range=(1,1), #Bigram : ngram_range=(1,2)\n",
        "                             smooth_idf=True,\n",
        "                             stop_words = stopwords\n",
        "                             )"
      ],
      "execution_count": null,
      "outputs": []
    },
    {
      "cell_type": "code",
      "metadata": {
        "id": "2-3pWmmvJJV3"
      },
      "source": [
        "tfidf_vector2 = tfidf_vectorizer2.fit_transform(nouns_df['nouns'].astype('str')) # tf-idf값으로 채워진 DTM생성\n",
        "tfidf_scores2 = tfidf_vector2.toarray().sum(axis = 0)\n",
        "tfidf_idx2 = np.argsort(-tfidf_scores2) # 1차원 배열 거꾸로 정렬 의미\n",
        "tfidf_scores2 = tfidf_scores2[tfidf_idx2] # 인덱스\n",
        "tfidf_vocab2 = np.array(tfidf_vectorizer2.get_feature_names())[tfidf_idx2] # 인덱스에 해당하는 단어 추출\n"
      ],
      "execution_count": null,
      "outputs": []
    },
    {
      "cell_type": "code",
      "metadata": {
        "id": "fzZovzR7JTSe"
      },
      "source": [
        "tfidf_df2 = pd.DataFrame({'단어' : tfidf_vocab2, '점수' : tfidf_scores2})"
      ],
      "execution_count": null,
      "outputs": []
    },
    {
      "cell_type": "markdown",
      "metadata": {
        "id": "IKQNbuGdJius"
      },
      "source": [
        "#### 워드클라우드"
      ]
    },
    {
      "cell_type": "code",
      "metadata": {
        "id": "_G0S0N2VJhxL"
      },
      "source": [
        "tfidf_dict2 = {}\n",
        "\n",
        "for i in range(len(tfidf_df2)):\n",
        "  tfidf_dict2[tfidf_df2.loc[i,'단어']] = tfidf_df2.loc[i,'점수']"
      ],
      "execution_count": null,
      "outputs": []
    },
    {
      "cell_type": "code",
      "metadata": {
        "id": "2x1cRZeuJnp_"
      },
      "source": [
        "plt.figure(figsize = (14,10))\n",
        "plt.rc('font', family='NanumBarunGothic')\n",
        "\n",
        "wordcloud = WordCloud(font_path = '/content/drive/MyDrive/Colab Notebooks/졸업논문/BMJUA_TTF.TTF',relative_scaling = 0.2,\n",
        "                      background_color = 'white', width = 2000,\n",
        "                      height = 1000,  max_font_size = 200).generate_from_frequencies(tfidf_dict2)\n",
        "\n",
        "plt.imshow(wordcloud)\n",
        "plt.axis('off')\n",
        "# plt.title('skip-gram으로 연관성 높은 상위 50개 단어 삭제 후 워드클라우드 ')\n",
        "plt.show()"
      ],
      "execution_count": null,
      "outputs": []
    },
    {
      "cell_type": "markdown",
      "metadata": {
        "id": "lyxR_pOsJ9jC"
      },
      "source": [
        "### 3. 불용어 처리 추가"
      ]
    },
    {
      "cell_type": "code",
      "metadata": {
        "id": "gBPBrbSjJqQL"
      },
      "source": [
        "stopwords2 = ['아래', '상상', '제안', '까지', '닷컴', '포털', '사이트', '천만', '오아시스', '이벤트', '접수','서울시','서울','특별시',\n",
        "             '천만상상','파일','첨부','응모','슬로건','공모','공모전','응모전','신청','경우','때문','정도','사항',\n",
        "                   '해당','겁니다','이것','저것','그것','돋움','신명', '태명', '한컴', '돋움',\n",
        "                   '동안','거기','저기','여기','대부분','누구','무엇','고딕','만큼','굴림','감사','건지','텐데',\n",
        "                   '안녕','이번','걸로','수고','겁니까','그간','그건','그때','글쓴이','누가','니다','다면',\n",
        "                   '뭔가','상상오아시스','하다','이다','되다','같다','궁','자체','서체','정','서','이','을','있다','없다', '체','관련',\n",
        "                   '생각', '현재', '진행', '사람', '마음', '남산', '내용', '현실','음','막','김','변','조',\n",
        "                   '오','참','동','지금','주변','대상','부분','요즘','하루','마련','세대','시간','이상','행위',\n",
        "                   '활동','구분','사실','과정','모습','기간','선정','단지','자신','발생','지역','기대','마련',\n",
        "                   '장소','모두','부탁','제공','이용','해주','당시','최근','민원','문제','문제점','현황','개선','방안',\n",
        "                   '문의','답변','일동','요청','담당자','직원','방법','사용','활용','확인','방식','예전','신규','지소','지위','장흥군','통계',\n",
        "              '상호', '일반','엑셀','대한','업체','안녕하십니까']\n",
        "\n",
        "stopwords2.append('자료')\n",
        "stopwords2.append('정보')\n",
        "stopwords2.append('공개')\n",
        "stopwords2.append('청구')\n",
        "stopwords2.append('정보공개')\n"
      ],
      "execution_count": null,
      "outputs": []
    },
    {
      "cell_type": "code",
      "metadata": {
        "id": "ZlaR67mEKPhy"
      },
      "source": [
        "tfidf_vectorizer3 = TfidfVectorizer(analyzer='word',\n",
        "                             lowercase=False,\n",
        "                             tokenizer=None,\n",
        "                             preprocessor=None,\n",
        "                             min_df=5, # 최소 문서 수 5건\n",
        "                             ngram_range=(1,1), #Bigram : ngram_range=(1,2)\n",
        "                             smooth_idf=True,\n",
        "                             stop_words = stopwords2\n",
        "                             )"
      ],
      "execution_count": null,
      "outputs": []
    },
    {
      "cell_type": "code",
      "metadata": {
        "id": "ZPcCa-1pKTSk"
      },
      "source": [
        "tfidf_vector3 = tfidf_vectorizer3.fit_transform(nouns_df['nouns'].astype('str')) # tf-idf값으로 채워진 DTM생성\n",
        "tfidf_scores3 = tfidf_vector3.toarray().sum(axis = 0)\n",
        "tfidf_idx3 = np.argsort(-tfidf_scores3) # 1차원 배열 거꾸로 정렬 의미\n",
        "tfidf_scores3 = tfidf_scores3[tfidf_idx3] # 인덱스\n",
        "tfidf_vocab3 = np.array(tfidf_vectorizer3.get_feature_names())[tfidf_idx3] # 인덱스에 해당하는 단어 추출\n"
      ],
      "execution_count": null,
      "outputs": []
    },
    {
      "cell_type": "code",
      "metadata": {
        "id": "zNerJM2VKgXC"
      },
      "source": [
        "tfidf_df3 = pd.DataFrame({'단어' : tfidf_vocab3, '점수' : tfidf_scores3})"
      ],
      "execution_count": null,
      "outputs": []
    },
    {
      "cell_type": "markdown",
      "metadata": {
        "id": "bqf9sVirKmUP"
      },
      "source": [
        "#### 워드 클라우드"
      ]
    },
    {
      "cell_type": "code",
      "metadata": {
        "id": "XmmYcZdcKlQM"
      },
      "source": [
        "tfidf_dict3 = {}\n",
        "\n",
        "for i in range(len(tfidf_df3)):\n",
        "  tfidf_dict3[tfidf_df3.loc[i,'단어']] = tfidf_df3.loc[i,'점수']"
      ],
      "execution_count": null,
      "outputs": []
    },
    {
      "cell_type": "code",
      "metadata": {
        "id": "phTtLPlIKt2H"
      },
      "source": [
        "plt.figure(figsize = (14,10))\n",
        "plt.rc('font', family='NanumBarunGothic')\n",
        "\n",
        "wordcloud = WordCloud(font_path = '/content/drive/MyDrive/Colab Notebooks/졸업논문/BMJUA_TTF.TTF',relative_scaling = 0.2,\n",
        "                      background_color = 'white', width = 2000,\n",
        "                      height = 1000,  max_font_size = 150).generate_from_frequencies(tfidf_dict3)\n",
        "\n",
        "plt.imshow(wordcloud)\n",
        "plt.axis('off')\n",
        "# plt.title('skip-gram으로 연관성 높은 상위 50개 단어 삭제 후 워드클라우드 ')\n",
        "plt.show()"
      ],
      "execution_count": null,
      "outputs": []
    },
    {
      "cell_type": "markdown",
      "metadata": {
        "id": "Y6AksdyULK-1"
      },
      "source": [
        "### 4. 불용어 처리 추가\n",
        "- 기본 70개 + 23 + 5"
      ]
    },
    {
      "cell_type": "code",
      "metadata": {
        "id": "htqgHcbcKwoF"
      },
      "source": [
        "stopwords3 = ['아래', '상상', '제안', '까지', '닷컴', '포털', '사이트', '천만', '오아시스', '이벤트', '접수','서울시','서울','특별시',\n",
        "             '천만상상','파일','첨부','응모','슬로건','공모','공모전','응모전','신청','경우','때문','정도','사항',\n",
        "                   '해당','겁니다','이것','저것','그것','돋움','신명', '태명', '한컴', '돋움',\n",
        "                   '동안','거기','저기','여기','대부분','누구','무엇','고딕','만큼','굴림','감사','건지','텐데',\n",
        "                   '안녕','이번','걸로','수고','겁니까','그간','그건','그때','글쓴이','누가','니다','다면',\n",
        "                   '뭔가','상상오아시스','하다','이다','되다','같다','궁','자체','서체','정','서','이','을','있다','없다', '체','관련',\n",
        "                   '생각', '현재', '진행', '사람', '마음', '남산', '내용', '현실','음','막','김','변','조',\n",
        "                   '오','참','동','지금','주변','대상','부분','요즘','하루','마련','세대','시간','이상','행위',\n",
        "                   '활동','구분','사실','과정','모습','기간','선정','단지','자신','발생','지역','기대','마련',\n",
        "                   '장소','모두','부탁','제공','이용','해주','당시','최근','민원','문제','문제점','현황','개선','방안',\n",
        "                   '문의','답변','일동','요청','담당자','직원','방법','사용','활용','확인','방식','예전','신규','지소','지위','장흥군','통계',\n",
        "              '상호', '일반','엑셀','대한','업체','안녕하십니까','주소','포함','처리','전화번호','연락처','리스트','오픈','등록','산보','원외','사별','보건']\n",
        "\n",
        "stopwords3.append('자료')\n",
        "stopwords3.append('정보')\n",
        "stopwords3.append('공개')\n",
        "stopwords3.append('청구')\n",
        "stopwords3.append('정보공개')\n"
      ],
      "execution_count": null,
      "outputs": []
    },
    {
      "cell_type": "code",
      "metadata": {
        "id": "rDFlcFQWLjtf"
      },
      "source": [
        "tfidf_vectorizer4 = TfidfVectorizer(analyzer='word',\n",
        "                             lowercase=False,\n",
        "                             tokenizer=None,\n",
        "                             preprocessor=None,\n",
        "                             min_df=5, # 최소 문서 수 5건\n",
        "                             ngram_range=(1,1), #Bigram : ngram_range=(1,2)\n",
        "                             smooth_idf=True,\n",
        "                             stop_words = stopwords3\n",
        "                             )"
      ],
      "execution_count": null,
      "outputs": []
    },
    {
      "cell_type": "code",
      "metadata": {
        "id": "6j1vi0rlLqVu"
      },
      "source": [
        "tfidf_vector4 = tfidf_vectorizer4.fit_transform(nouns_df['nouns'].astype('str')) # tf-idf값으로 채워진 DTM생성\n",
        "tfidf_scores4 = tfidf_vector4.toarray().sum(axis = 0)\n",
        "tfidf_idx4 = np.argsort(-tfidf_scores4) # 1차원 배열 거꾸로 정렬 의미\n",
        "tfidf_scores4 = tfidf_scores4[tfidf_idx4] # 인덱스\n",
        "tfidf_vocab4 = np.array(tfidf_vectorizer4.get_feature_names())[tfidf_idx4] # 인덱스에 해당하는 단어 추출\n"
      ],
      "execution_count": null,
      "outputs": []
    },
    {
      "cell_type": "code",
      "metadata": {
        "id": "my-Az8stLy6w"
      },
      "source": [
        "tfidf_df4 = pd.DataFrame({'단어' : tfidf_vocab4, '점수' : tfidf_scores4})"
      ],
      "execution_count": null,
      "outputs": []
    },
    {
      "cell_type": "markdown",
      "metadata": {
        "id": "IKcXjTynL4og"
      },
      "source": [
        "#### 워드클라우드"
      ]
    },
    {
      "cell_type": "code",
      "metadata": {
        "id": "rJrQ2FqeL2br"
      },
      "source": [
        "tfidf_dict4 = {}\n",
        "\n",
        "for i in range(len(tfidf_df4)):\n",
        "  tfidf_dict4[tfidf_df4.loc[i,'단어']] = tfidf_df4.loc[i,'점수']"
      ],
      "execution_count": null,
      "outputs": []
    },
    {
      "cell_type": "code",
      "metadata": {
        "id": "CFzmgEusL86W"
      },
      "source": [
        "plt.figure(figsize = (14,10))\n",
        "plt.rc('font', family='NanumBarunGothic')\n",
        "plt.rc('font', size = 12)\n",
        "\n",
        "wordcloud = WordCloud(font_path = '/content/drive/MyDrive/Colab Notebooks/졸업논문/BMJUA_TTF.TTF',relative_scaling = 0.2,\n",
        "                      background_color = 'white', width = 2000,\n",
        "                      height = 1000,  max_font_size = 200).generate_from_frequencies(tfidf_dict4)\n",
        "\n",
        "plt.imshow(wordcloud)\n",
        "plt.axis('off')\n",
        "plt.title('장흥군청 보건소 TF-IDF 점수 별 키워드 시각화')\n",
        "plt.show()"
      ],
      "execution_count": null,
      "outputs": []
    },
    {
      "cell_type": "markdown",
      "metadata": {
        "id": "vZVp9MjeOdFL"
      },
      "source": [
        "- 전체 TF-IDF 에서 선정한 키워드 제외, 점수가 높지만 유의미해 보이지 않는 단어의 경우 임의적으로 불용어로 처리해줌"
      ]
    },
    {
      "cell_type": "markdown",
      "metadata": {
        "id": "OCkRgjWQJQmv"
      },
      "source": [
        "#### 상위 5개 키워드 살피기"
      ]
    },
    {
      "cell_type": "markdown",
      "metadata": {
        "id": "AdhjTLdzJqIe"
      },
      "source": [
        "##### 각 키워드의 추이 살피기"
      ]
    },
    {
      "cell_type": "markdown",
      "metadata": {
        "id": "29XgFQ2qJ3Fr"
      },
      "source": [
        "## 빈도별 키워드 추출\n",
        "- TF-IDF와는 불용어 처리 다르게함"
      ]
    },
    {
      "cell_type": "markdown",
      "metadata": {
        "id": "NYkHw38oSoxt"
      },
      "source": [
        "### 1차 : 불용어 처리 X"
      ]
    },
    {
      "cell_type": "code",
      "metadata": {
        "id": "AKCAZZ_BJ4UE"
      },
      "source": [
        "sentence2 = [[] for i in range(len(sentence))]\n",
        "\n",
        "for t1 in range(len(sentence)):\n",
        "  for t2 in sentence[t1]:\n",
        "    if t2 not in stopwords3:\n",
        "      sentence2[t1].append(t2)"
      ],
      "execution_count": null,
      "outputs": []
    },
    {
      "cell_type": "code",
      "metadata": {
        "id": "xt2PrQTeKkft"
      },
      "source": [
        "all_nouns = []\n",
        "\n",
        "for t1 in range(len(sentence2)):\n",
        "  for t2 in sentence2[t1]:\n",
        "    all_nouns.append(t2)"
      ],
      "execution_count": null,
      "outputs": []
    },
    {
      "cell_type": "code",
      "metadata": {
        "id": "hi-5yEFkLKM7"
      },
      "source": [
        "all_nouns_set = list(set(all_nouns))"
      ],
      "execution_count": null,
      "outputs": []
    },
    {
      "cell_type": "code",
      "metadata": {
        "id": "riovrBr_L-qL"
      },
      "source": [
        "# 딕셔너리 생성\n",
        "all_nouns_dict = dict.fromkeys(all_nouns_set,0)"
      ],
      "execution_count": null,
      "outputs": []
    },
    {
      "cell_type": "code",
      "metadata": {
        "id": "EBCRxXI1Nq_X"
      },
      "source": [
        "# 빈도수 카운트 : 청구제목, 청구내용, 공개내용에 한번이라도 들어있으면 OK\n",
        "\n",
        "for word in all_nouns_dict.keys():\n",
        "  for i in range(len(data2)):\n",
        "    if word in data2.loc[i,'청구제목'] or word in data2.loc[i,'청구내용'] or word in data2.loc[i,'공개내용']:\n",
        "      all_nouns_dict[word] += 1\n",
        "    else:\n",
        "      pass\n"
      ],
      "execution_count": null,
      "outputs": []
    },
    {
      "cell_type": "code",
      "metadata": {
        "id": "CzSBMuZCO71k"
      },
      "source": [
        "sorted_all_nouns_dict = dict(sorted(all_nouns_dict.items(), key = lambda item: item[1], reverse = True))"
      ],
      "execution_count": null,
      "outputs": []
    },
    {
      "cell_type": "markdown",
      "metadata": {
        "id": "RAqEIINlSj1n"
      },
      "source": [
        "#### 워드클라우드"
      ]
    },
    {
      "cell_type": "code",
      "metadata": {
        "id": "KoES0-EtSkHj"
      },
      "source": [
        "plt.figure(figsize = (14,10))\n",
        "plt.rc('font', family='NanumBarunGothic')\n",
        "\n",
        "wordcloud = WordCloud(font_path = '/content/drive/MyDrive/Colab Notebooks/졸업논문/BMJUA_TTF.TTF',relative_scaling = 0.2,\n",
        "                      background_color = 'black', width = 2000,\n",
        "                      height = 1000,  max_font_size = 200,colormap = 'seismic').generate_from_frequencies(sorted_all_nouns_dict)\n",
        "\n",
        "plt.imshow(wordcloud)\n",
        "plt.axis('off')\n",
        "plt.title('장흥군 보건소 빈도별 키워드 워드클라우드')\n",
        "plt.show()"
      ],
      "execution_count": null,
      "outputs": []
    },
    {
      "cell_type": "markdown",
      "metadata": {
        "id": "2FwQzG-2R9Um"
      },
      "source": [
        "### 1차 불용어 처리후 진행\n",
        "- stopword "
      ]
    },
    {
      "cell_type": "code",
      "metadata": {
        "id": "spg2yd9Snt_Z"
      },
      "source": [
        "all_nouns_set2 = [word for word in all_nouns_set if word not in stopwords]"
      ],
      "execution_count": null,
      "outputs": []
    },
    {
      "cell_type": "code",
      "metadata": {
        "id": "wZcCxxNNn2T1"
      },
      "source": [
        "# 딕셔너리 생성\n",
        "all_nouns_dict2 = dict.fromkeys(all_nouns_set2,0)\n",
        "\n",
        "# 빈도수 카운트 : 청구제목, 청구내용, 공개내용에 한번이라도 들어있으면 OK\n",
        "\n",
        "for word in all_nouns_dict2.keys():\n",
        "  for i in range(len(data2)):\n",
        "    if word in data2.loc[i,'청구제목'] or word in data2.loc[i,'청구내용'] or word in data2.loc[i,'공개내용']:\n",
        "      all_nouns_dict2[word] += 1\n",
        "    else:\n",
        "      pass\n",
        "\n",
        "sorted_all_nouns_dict2 = dict(sorted(all_nouns_dict2.items(), key = lambda item: item[1], reverse = True))"
      ],
      "execution_count": null,
      "outputs": []
    },
    {
      "cell_type": "code",
      "metadata": {
        "id": "52TCBO28oZPZ"
      },
      "source": [
        "sorted_all_nouns_df2 = pd.DataFrame({'단어': sorted_all_nouns_dict2.keys(), '빈도': sorted_all_nouns_dict2.values()})"
      ],
      "execution_count": null,
      "outputs": []
    },
    {
      "cell_type": "markdown",
      "metadata": {
        "id": "tP91TR2En-6V"
      },
      "source": [
        "### 2차 불용어 처리후 진행\n",
        "- stopword + '전화' ,'장흥', '번호', '일로', '부터', '주시', '중위', '관내', '일부', '제외', '연락','작일','시작','메일','전체','오름','개인','부존재"
      ]
    },
    {
      "cell_type": "code",
      "metadata": {
        "id": "mPZsoERRRI3n"
      },
      "source": [
        "stopwords4 = ['아래', '상상', '제안', '까지', '닷컴', '포털', '사이트', '천만', '오아시스', '이벤트', '접수','서울시','서울','특별시',\n",
        "             '천만상상','파일','첨부','응모','슬로건','공모','공모전','응모전','신청','경우','때문','정도','사항',\n",
        "                   '해당','겁니다','이것','저것','그것','돋움','신명', '태명', '한컴', '돋움',\n",
        "                   '동안','거기','저기','여기','대부분','누구','무엇','고딕','만큼','굴림','감사','건지','텐데',\n",
        "                   '안녕','이번','걸로','수고','겁니까','그간','그건','그때','글쓴이','누가','니다','다면',\n",
        "                   '뭔가','상상오아시스','하다','이다','되다','같다','궁','자체','서체','정','서','이','을','있다','없다', '체','관련',\n",
        "                   '생각', '현재', '진행', '사람', '마음', '남산', '내용', '현실','음','막','김','변','조',\n",
        "                   '오','참','동','지금','주변','대상','부분','요즘','하루','마련','세대','시간','이상','행위',\n",
        "                   '활동','구분','사실','과정','모습','기간','선정','단지','자신','발생','지역','기대','마련',\n",
        "                   '장소','모두','부탁','제공','이용','해주','당시','최근','민원','문제','문제점','현황','개선','방안',\n",
        "                   '문의','답변','일동','요청','담당자','직원','방법','사용','활용','확인','방식','예전','자료','정보','공개','청구','정보공개',\n",
        "              '전화' ,'장흥', '번호', '일로', '부터', '주시', '중위', '관내', '일부', '제외', '연락','작일','시작','메일','전체','오름','개인','부존재']"
      ],
      "execution_count": null,
      "outputs": []
    },
    {
      "cell_type": "code",
      "metadata": {
        "id": "ZT5R155UTWLL"
      },
      "source": [
        "all_nouns_set3 = [word for word in all_nouns_set if word not in stopwords4]"
      ],
      "execution_count": null,
      "outputs": []
    },
    {
      "cell_type": "code",
      "metadata": {
        "id": "TbEB4BbATl6l"
      },
      "source": [
        "# 딕셔너리 생성\n",
        "all_nouns_dict3 = dict.fromkeys(all_nouns_set3,0)\n",
        "\n",
        "# 빈도수 카운트 : 청구제목, 청구내용, 공개내용에 한번이라도 들어있으면 OK\n",
        "\n",
        "for word in all_nouns_dict3.keys():\n",
        "  for i in range(len(data2)):\n",
        "    if word in data2.loc[i,'청구제목'] or word in data2.loc[i,'청구내용'] or word in data2.loc[i,'공개내용']:\n",
        "      all_nouns_dict3[word] += 1\n",
        "    else:\n",
        "      pass\n",
        "\n",
        "sorted_all_nouns_dict3 = dict(sorted(all_nouns_dict3.items(), key = lambda item: item[1], reverse = True))"
      ],
      "execution_count": null,
      "outputs": []
    },
    {
      "cell_type": "code",
      "metadata": {
        "id": "IcrsbOXoTxTW"
      },
      "source": [
        "plt.figure(figsize = (14,10))\n",
        "plt.rc('font', family='NanumBarunGothic')\n",
        "\n",
        "wordcloud = WordCloud(font_path = '/content/drive/MyDrive/Colab Notebooks/졸업논문/BMJUA_TTF.TTF',relative_scaling = 0.2,\n",
        "                      background_color = 'white', width = 2000,\n",
        "                      height = 1000,  max_font_size = 200).generate_from_frequencies(sorted_all_nouns_dict3)\n",
        "\n",
        "plt.imshow(wordcloud)\n",
        "plt.axis('off')\n",
        "plt.rc('font', size=12)\n",
        "plt.title('장흥군청 보건소 빈도별 키워드 시각화')\n",
        "plt.show()"
      ],
      "execution_count": null,
      "outputs": []
    }
  ]
}
