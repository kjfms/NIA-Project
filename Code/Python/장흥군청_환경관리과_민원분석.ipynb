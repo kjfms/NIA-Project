{
  "nbformat": 4,
  "nbformat_minor": 0,
  "metadata": {
    "colab": {
      "name": "장흥군청_환경관리과_민원분석.ipynb",
      "provenance": [],
      "collapsed_sections": [],
      "toc_visible": true,
      "authorship_tag": "ABX9TyPzlWWxRqbSqVOSF1a33CKW",
      "include_colab_link": true
    },
    "kernelspec": {
      "name": "python3",
      "display_name": "Python 3"
    },
    "language_info": {
      "name": "python"
    }
  },
  "cells": [
    {
      "cell_type": "markdown",
      "metadata": {
        "id": "view-in-github",
        "colab_type": "text"
      },
      "source": [
        "<a href=\"https://colab.research.google.com/github/kjfms/NIA-Project/blob/main/Code/%EC%9E%A5%ED%9D%A5%EA%B5%B0%EC%B2%AD_%ED%99%98%EA%B2%BD%EA%B4%80%EB%A6%AC%EA%B3%BC_%EB%AF%BC%EC%9B%90%EB%B6%84%EC%84%9D.ipynb\" target=\"_parent\"><img src=\"https://colab.research.google.com/assets/colab-badge.svg\" alt=\"Open In Colab\"/></a>"
      ]
    },
    {
      "cell_type": "markdown",
      "metadata": {
        "id": "2FN3cA5dad2f"
      },
      "source": [
        "# 선수행 작업"
      ]
    },
    {
      "cell_type": "markdown",
      "metadata": {
        "id": "VwQTgU05dTHQ"
      },
      "source": [
        "## 기본 패키지 설치"
      ]
    },
    {
      "cell_type": "code",
      "metadata": {
        "id": "FmT927mnc8SZ"
      },
      "source": [
        "import pandas as pd\n",
        "import numpy as np\n",
        "import matplotlib.pyplot as plt\n",
        "import seaborn as sns\n",
        "import datetime"
      ],
      "execution_count": null,
      "outputs": []
    },
    {
      "cell_type": "markdown",
      "metadata": {
        "id": "56PQ8j42dSIR"
      },
      "source": [
        "## Konlpy & mecab 설치"
      ]
    },
    {
      "cell_type": "code",
      "metadata": {
        "id": "NFe13kmqc9ax"
      },
      "source": [
        "#한글 깨짐 방지. 처음 할 때 수행하고 런타임 다시시작 후 돌리지 말 것\n",
        "!sudo apt-get install -y fonts-nanum\n",
        "!sudo fc-cache -fv\n",
        "!rm ~/.cache/matplotlib -rf"
      ],
      "execution_count": null,
      "outputs": []
    },
    {
      "cell_type": "code",
      "metadata": {
        "id": "QQ7dBTJDdATk"
      },
      "source": [
        "!apt-get update !apt-get install g++ openjdk-8-jdk python-dev python3-dev \n",
        "!pip3 install JPype1-py3 \n",
        "!pip3 install konlpy \n",
        "!JAVA_HOME=\"C:\\Program Files\\Java\\jdk-16.0.2\""
      ],
      "execution_count": null,
      "outputs": []
    },
    {
      "cell_type": "code",
      "metadata": {
        "id": "-AX66k0QdKvZ"
      },
      "source": [
        "%%bash\n",
        "bash <(curl -s https://raw.githubusercontent.com/konlpy/konlpy/master/scripts/mecab.sh)\n",
        "pip3 install /tmp/mecab-python-0.996"
      ],
      "execution_count": null,
      "outputs": []
    },
    {
      "cell_type": "code",
      "metadata": {
        "id": "16jAtJiPd5A4"
      },
      "source": [
        "import konlpy\n",
        "from konlpy.tag import Kkma, Komoran, Hannanum, Okt\n",
        "from konlpy.utils import pprint\n",
        "from konlpy.tag import Mecab"
      ],
      "execution_count": null,
      "outputs": []
    },
    {
      "cell_type": "code",
      "metadata": {
        "id": "H4l_JzADd5gk"
      },
      "source": [
        "mecab = Mecab()\n",
        "okt = Okt()"
      ],
      "execution_count": null,
      "outputs": []
    },
    {
      "cell_type": "markdown",
      "metadata": {
        "id": "g2gbLFpG_QSD"
      },
      "source": [
        "## 구글드라이브와 데이터 연동"
      ]
    },
    {
      "cell_type": "code",
      "metadata": {
        "colab": {
          "base_uri": "https://localhost:8080/"
        },
        "id": "-elTSw7Q_QO0",
        "outputId": "6c924df9-de8c-4e7d-e094-e62107b770a4"
      },
      "source": [
        "#나오는 주소창 눌러서 코드 얻기\n",
        "from google.colab import drive\n",
        "drive.mount('content')"
      ],
      "execution_count": null,
      "outputs": [
        {
          "output_type": "stream",
          "name": "stdout",
          "text": [
            "Mounted at content\n"
          ]
        }
      ]
    },
    {
      "cell_type": "markdown",
      "metadata": {
        "id": "OiKMr-B5d58U"
      },
      "source": [
        "## 데이터 불러오기\n"
      ]
    },
    {
      "cell_type": "code",
      "metadata": {
        "id": "GNR42OPvd6G5"
      },
      "source": [
        "data1 = pd.read_csv('/content/content/MyDrive/NIA/Data/minwon_not_append.csv')\n",
        "data2 = pd.read_csv('/content/content/MyDrive/NIA/Data/minwon_append.csv')\n",
        "#nan값 있으면 밑에 okt.nouns가 에러 뜨기 때문에 이를 대체\n",
        "data2.fillna({'공개내용' : ' '},inplace=True)"
      ],
      "execution_count": null,
      "outputs": []
    },
    {
      "cell_type": "markdown",
      "metadata": {
        "id": "8ZPH2EqTybE9"
      },
      "source": [
        "# 환경관리과\n",
        "### 할 때, 여기서부터 하고 싶다면 맨 앞에 데이터 불러오기 수행할 것"
      ]
    },
    {
      "cell_type": "markdown",
      "metadata": {
        "id": "axlz0PBzGOF8"
      },
      "source": [
        "### 데이터 불러오기"
      ]
    },
    {
      "cell_type": "code",
      "metadata": {
        "id": "rbjACkIGEm8c"
      },
      "source": [
        "data1_index = []\n",
        "for i in range(len(data1)):\n",
        "  if data1.loc[i,'처리부서'] == '전라남도 장흥군 환경관리과' :\n",
        "    data1_index.append(i)\n",
        "\n",
        "data2_index = []\n",
        "for i in range(len(data2)):\n",
        "  if data2.loc[i,'처리부서'] == '전라남도 장흥군 환경관리과' :\n",
        "    data2_index.append(i)"
      ],
      "execution_count": null,
      "outputs": []
    },
    {
      "cell_type": "code",
      "metadata": {
        "id": "FtFyY_toEnn7"
      },
      "source": [
        "envi_data1 = data1.loc[data1_index,:]\n",
        "envi_data2 = data2.loc[data2_index,:]"
      ],
      "execution_count": null,
      "outputs": []
    },
    {
      "cell_type": "markdown",
      "metadata": {
        "id": "Yr44XpdZGZGj"
      },
      "source": [
        "### 명사 추출"
      ]
    },
    {
      "cell_type": "code",
      "metadata": {
        "id": "iPN_F1nEEn2t"
      },
      "source": [
        "# 2글자 이상인 명사만 추출\n",
        "# text는 하나의 리스트인데, 또 안에 문장 별로 리스트가 나눠져 있는 이중구조\n",
        "# 이렇게 이중구조 한 이유가 나중에 무언가를 실행하기 위해서일걸?\n",
        "# 그걸 떠나서 문장별로 어떤 단어가 들어있는지 확인하기도 용이 (DTM 형태 변환이 자유로움)\n",
        "#loc 에러나서 iloc으로 수정 (4 : 청구제목, 5 : 청구내용, 9 : 공개내용)\n",
        "\n",
        "envi_text = []\n",
        "\n",
        "for i in range(len(envi_data1)):\n",
        "  contents = envi_data1.iloc[i,4]\n",
        "  title = envi_data1.iloc[i,5]\n",
        "  envi_text.append([c for c in okt.nouns(contents) if len(c) >= 2])\n",
        "  envi_text.append([t for t in okt.nouns(title) if len(t) >= 2])\n",
        "\n",
        "for j in range(len(envi_data2)):\n",
        "  open = envi_data2.iloc[j,9]\n",
        "  envi_text.append([o for o in okt.nouns(open) if len(o) >= 2])\n",
        "\n"
      ],
      "execution_count": null,
      "outputs": []
    },
    {
      "cell_type": "markdown",
      "metadata": {
        "id": "a8MV2j6RJJ5c"
      },
      "source": [
        "### 불용어 정의"
      ]
    },
    {
      "cell_type": "code",
      "metadata": {
        "id": "SQDv8YJnJaej"
      },
      "source": [
        "#불용어사전\n",
        "stopwords = ['아래', '상상', '제안', '까지', '닷컴', '포털', '사이트', '천만', '오아시스', '이벤트', '접수','서울시','서울','특별시',\n",
        "             '천만상상','파일','첨부','응모','슬로건','공모','공모전','응모전','신청','경우','때문','정도','사항',\n",
        "                   '해당','겁니다','이것','저것','그것','돋움','신명', '태명', '한컴', '돋움',\n",
        "                   '동안','거기','저기','여기','대부분','누구','무엇','고딕','만큼','굴림','감사','건지','텐데',\n",
        "                   '안녕','이번','걸로','수고','겁니까','그간','그건','그때','글쓴이','누가','니다','다면',\n",
        "                   '뭔가','상상오아시스','하다','이다','되다','같다','궁','자체','서체','정','서','이','을','있다','없다', '체','관련',\n",
        "                   '생각', '현재', '진행', '사람', '마음', '남산', '내용', '현실','음','막','김','변','조',\n",
        "                   '오','참','동','지금','주변','대상','부분','요즘','하루','마련','세대','시간','이상','행위',\n",
        "                   '활동','구분','사실','과정','모습','기간','선정','단지','자신','발생','지역','기대','마련',\n",
        "                   '장소','모두','부탁','제공','이용','해주','당시','최근','민원','문제','문제점','현황','개선','방안',\n",
        "                   '문의','답변','일동','요청','담당자','직원','방법','사용','활용','확인','방식','예전']\n",
        "\n",
        "stopwords.append('자료')\n",
        "stopwords.append('정보')\n",
        "stopwords.append('공개')\n",
        "stopwords.append('청구')\n",
        "stopwords.append('정보공개')\n",
        "#아래부터는 환경관리과에서만 해당\n",
        "stopwords.append('검사')\n",
        "stopwords.append('업체')\n",
        "stopwords.append('사업')\n",
        "stopwords.append('시설')\n",
        "stopwords.append('명령')\n",
        "stopwords.append('정밀')\n",
        "stopwords.append('조사')\n",
        "stopwords.append('안녕하십니까')\n",
        "stopwords.append('대한')\n",
        "stopwords.append('우리')\n",
        "stopwords.append('행정처분')\n",
        "stopwords.append('특정')\n",
        "stopwords.append('기준')\n",
        "stopwords.append('대해')\n",
        "stopwords.append('주시')\n",
        "stopwords.append('장흥군')\n",
        "stopwords.append('오니')\n",
        "stopwords.append('무궁')\n",
        "stopwords.append('참고')\n",
        "stopwords.append('정보공')\n",
        "stopwords.append('귀하')\n",
        "stopwords.append('시기')\n",
        "stopwords.append('군청')\n",
        "stopwords.append('연락')\n",
        "stopwords.append('대하')\n",
        "stopwords.append('습니')\n",
        "stopwords.append('장흥')\n",
        "stopwords.append('기물')\n",
        "stopwords.append('년도')\n",
        "stopwords.append('해주시')"
      ],
      "execution_count": null,
      "outputs": []
    },
    {
      "cell_type": "markdown",
      "metadata": {
        "id": "6MdC9ZrgQNc0"
      },
      "source": [
        "### 빈도"
      ]
    },
    {
      "cell_type": "code",
      "metadata": {
        "id": "jSRu0Hw_NMfW"
      },
      "source": [
        "# nouns : 문장 구분 없이 추출\n",
        "# 2글자 이상인 명사만 추출\n",
        "envi_nouns = []\n",
        "\n",
        "for i in range(len(envi_data1)):\n",
        "  contents = envi_data1.iloc[i,4]\n",
        "  title = envi_data1.iloc[i,5]\n",
        "  for k in okt.nouns(contents):\n",
        "    if len(k) >= 2 :\n",
        "      envi_nouns.append(k)\n",
        "  \n",
        "  for t in okt.nouns(title):\n",
        "    if len(t) >= 2:\n",
        "      envi_nouns.append(t)\n",
        "\n",
        "for j in range(len(envi_data2)):\n",
        "  open = envi_data2.iloc[j,9]\n",
        "  for o in okt.nouns(open):\n",
        "    if len(o) >= 2 :\n",
        "      envi_nouns.append(o)"
      ],
      "execution_count": null,
      "outputs": []
    },
    {
      "cell_type": "code",
      "metadata": {
        "id": "L6jI_chQNmjs"
      },
      "source": [
        "#중복 제거\n",
        "new_envi_nouns = []\n",
        "for v in envi_nouns:\n",
        "    if v not in new_envi_nouns:\n",
        "        new_envi_nouns.append(v)"
      ],
      "execution_count": null,
      "outputs": []
    },
    {
      "cell_type": "code",
      "metadata": {
        "id": "DXAmBzvUNMfY"
      },
      "source": [
        "for_envi_bindo = []\n",
        "#불용어 처리\n",
        "for t1 in range(len(new_envi_nouns)):\n",
        "  if new_envi_nouns[t1] not in stopwords:\n",
        "    for_envi_bindo.append(new_envi_nouns[t1])"
      ],
      "execution_count": null,
      "outputs": []
    },
    {
      "cell_type": "code",
      "metadata": {
        "id": "oA0jsrvqRdoG"
      },
      "source": [
        "# 각 키워드가 포함된 행 수 추출\n",
        "# evni_data1에 대해서\n",
        "#프로세스\n",
        "#특정 단어가 들어가 있다면, 청구제목, 청구내용, 공개내용을 추출해 하나의 열로 만들고\n",
        "#나중에 len()함수를 적용하기 때문에 문장별 1개씩 밖에 안 나옴\n",
        "a = []\n",
        "\n",
        "for word in for_envi_bindo:\n",
        "    data11 = envi_data1[envi_data1['청구제목'].str.contains(word, na = False)]\n",
        "    data22 = envi_data1[envi_data1['청구내용'].str.contains(word, na = False)]\n",
        "    data33 = envi_data1[envi_data1['공개내용'].str.contains(word, na = False)]\n",
        "    result = pd.concat([data11,data22,data33])\n",
        "    result.drop_duplicates(inplace=True)\n",
        "    a.append(len(result))"
      ],
      "execution_count": null,
      "outputs": []
    },
    {
      "cell_type": "code",
      "metadata": {
        "id": "uVoMEMeBK2au"
      },
      "source": [
        "# envi_data2에 대해서\n",
        "# 사실 data2의 경우 청구제목, 청구내용 굳이 안해도 되긴 하는데 그냥\n",
        "\n",
        "b = []\n",
        "for word in for_envi_bindo:\n",
        "    data11 = envi_data2[envi_data2['청구제목'].str.contains(word, na = False)]\n",
        "    data22 = envi_data2[envi_data2['청구내용'].str.contains(word, na = False)]\n",
        "    data33 = envi_data2[envi_data2['공개내용'].str.contains(word, na = False)]\n",
        "    result = pd.concat([data11,data22,data33])\n",
        "    result.drop_duplicates(inplace=True)\n",
        "    b.append(len(result))"
      ],
      "execution_count": null,
      "outputs": []
    },
    {
      "cell_type": "code",
      "metadata": {
        "id": "r4N0S_LfKfFV"
      },
      "source": [
        "#두 데이터 결과 합치기\n",
        "envi_freq = [x+y for x,y in zip(a, b)]"
      ],
      "execution_count": null,
      "outputs": []
    },
    {
      "cell_type": "code",
      "metadata": {
        "id": "xDNFvNCMLkvu"
      },
      "source": [
        "# 데이터 프레임 생성\n",
        "envi_bindo = pd.DataFrame({'단어' : for_envi_bindo,\n",
        "                          '빈도' : envi_freq})"
      ],
      "execution_count": null,
      "outputs": []
    },
    {
      "cell_type": "code",
      "metadata": {
        "id": "2yI3PIFqHOYN"
      },
      "source": [
        "envi_bindo_dict = {}\n",
        "for i in range(len(envi_bindo)):\n",
        "  envi_bindo_dict[envi_bindo.loc[i,'단어']] = envi_bindo.loc[i,'빈도']"
      ],
      "execution_count": null,
      "outputs": []
    },
    {
      "cell_type": "code",
      "metadata": {
        "id": "H7MdL3JcMzcQ"
      },
      "source": [
        "from wordcloud import WordCloud\n",
        "plt.figure(figsize = (14,10))\n",
        "plt.rc('font', family='NanumBarunGothic')\n",
        "plt.rc('font',size=12)\n",
        "\n",
        "wordcloud = WordCloud(font_path = '/content/content/MyDrive/Font/BMJUA.ttf',relative_scaling = 0.2,\n",
        "                      background_color = 'white', width = 2000,\n",
        "                      height = 1000, max_font_size = 200).generate_from_frequencies(envi_bindo_dict)\n",
        "#font_path : 폰트가 저장된 경로\n",
        "#relative_scaling : 잘 모르겠으나, 글자 사이의 무슨 그런 거 아닐까\n",
        "#backgroud_color : 배경색\n",
        "#width : 화면 넓이\n",
        "#height : 화면 높이\n",
        "#max_words : 화면 상 나타나는 글자 수\n",
        "#max_font_size : 제일 큰 글자의 크기\n",
        "#.generate_from_frequencies(사전) : 글자 크기를 결정하는 사전. (단어 : 수치) 형태\n",
        "\n",
        "plt.imshow(wordcloud)\n",
        "plt.axis('off')\n",
        "plt.title('장흥군청 환경관리과 빈도별 키워드 시각화')\n",
        "plt.show()"
      ],
      "execution_count": null,
      "outputs": []
    },
    {
      "cell_type": "markdown",
      "metadata": {
        "id": "1MsQoQhlF8N-"
      },
      "source": [
        "### TF-IDF"
      ]
    },
    {
      "cell_type": "code",
      "metadata": {
        "id": "1744DQFdKME0"
      },
      "source": [
        "envi_df = pd.DataFrame({'nouns' : envi_text})"
      ],
      "execution_count": null,
      "outputs": []
    },
    {
      "cell_type": "code",
      "metadata": {
        "id": "uhkpAPtPJu_U"
      },
      "source": [
        "from sklearn.feature_extraction.text import TfidfVectorizer\n",
        "\n",
        "tfidf_vectorizer_envi = TfidfVectorizer(analyzer='word',\n",
        "                             lowercase=False,\n",
        "                             tokenizer=None,\n",
        "                             preprocessor=None,\n",
        "                             min_df=5, # 최소 문서 수 5건\n",
        "                             ngram_range=(1,1), #Bigram : ngram_range=(1,2)\n",
        "                             smooth_idf=True,\n",
        "                             stop_words = stopwords\n",
        "                             )\n",
        "tfidf_vector_envi = tfidf_vectorizer_envi.fit_transform(envi_df['nouns'].astype('str')) # tf-idf값으로 채워진 DTM생성\n",
        "tfidf_scores_envi = tfidf_vector_envi.toarray().sum(axis = 0)\n",
        "tfidf_idx_envi = np.argsort(-tfidf_scores_envi) # 1차원 배열 거꾸로 정렬 의미\n",
        "tfidf_scores_envi2 = tfidf_scores_envi[tfidf_idx_envi] # 인덱스\n",
        "tfidf_vocab_envi = np.array(tfidf_vectorizer_envi.get_feature_names())[tfidf_idx_envi] # 인덱스에 해당하는 단어 추출\n",
        "tfidf_df_envi = pd.DataFrame({'단어' : tfidf_vocab_envi, '점수' : tfidf_scores_envi2})"
      ],
      "execution_count": null,
      "outputs": []
    },
    {
      "cell_type": "code",
      "metadata": {
        "id": "V1avRZ8yNaCG"
      },
      "source": [
        "envi_dict = {}\n",
        "for i in range(len(tfidf_df_envi)):\n",
        "  envi_dict[tfidf_df_envi.loc[i,'단어']] = tfidf_df_envi.loc[i,'점수']"
      ],
      "execution_count": null,
      "outputs": []
    },
    {
      "cell_type": "code",
      "metadata": {
        "id": "o_1BGzMUQSN8"
      },
      "source": [
        "plt.figure(figsize = (14,10))\n",
        "plt.rc('font', family='NanumBarunGothic')\n",
        "plt.rc('font',size=12)\n",
        "\n",
        "wordcloud = WordCloud(font_path = '/content/content/MyDrive/Font/BMJUA.ttf',relative_scaling = 0.2,\n",
        "                      background_color = 'white', width = 2000,\n",
        "                      height = 1000, max_font_size = 200).generate_from_frequencies(envi_dict)\n",
        "#font_path : 폰트가 저장된 경로\n",
        "#relative_scaling : 잘 모르겠으나, 글자 사이의 무슨 그런 거 아닐까\n",
        "#backgroud_color : 배경색\n",
        "#width : 화면 넓이\n",
        "#height : 화면 높이\n",
        "#max_words : 화면 상 나타나는 글자 수\n",
        "#max_font_size : 제일 큰 글자의 크기\n",
        "#.generate_from_frequencies(사전) : 글자 크기를 결정하는 사전. (단어 : 수치) 형태\n",
        "\n",
        "plt.imshow(wordcloud)\n",
        "plt.axis('off')\n",
        "plt.title('장흥군청 환경관리과 TF-IDF 점수별 키워드 시각화')\n",
        "plt.show()"
      ],
      "execution_count": null,
      "outputs": []
    }
  ]
}
